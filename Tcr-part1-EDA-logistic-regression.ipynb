{
 "cells": [
  {
   "cell_type": "markdown",
   "id": "227bd72a",
   "metadata": {},
   "source": [
    "# Predicting recurrence of thyroid cancer"
   ]
  },
  {
   "cell_type": "markdown",
   "id": "8707abe2",
   "metadata": {},
   "source": [
    "<span style=\"font-size:14px\">\n",
    "Andre Nana"
   ]
  },
  {
   "cell_type": "markdown",
   "id": "b1fc6fef",
   "metadata": {},
   "source": [
    "### 1. Introduction"
   ]
  },
  {
   "cell_type": "markdown",
   "id": "f8d50222",
   "metadata": {},
   "source": [
    "<span style=\"font-size:14px\">\n",
    "\n",
    "#### Background\n",
    "\n",
    "Thyroid cancer is one of the most common endocrine malignancies and is on the rise in both the US and globally [^1] This cancer generally has a favorable prognosis but still carries a significant risk of recurrence. Traditional statistical methods are commonly used to assess the relationships between clinical, pathological, and demographic predictors and thyroid cancer recurrence, but usually rely on predefined assumptions about variable relationships (independence of observations, homoscedasticity, etc.). Machine learning (ML) techniques can provide more flexible approaches by adaptively learning patterns directly from the data. This can enable more accurate predictions, especially in complex, high-dimensional clinical datasets, and more importantly, allow prediction on new data.\n",
    "\n",
    "#### Purpose\n",
    "  \n",
    "This project investigates recurrence in thyroid cancer patients using both statistical logistic regression and machine learning methods. With the logistic regression, we explore the relationship between several “causes” and the likelihood of recurrence. We then shift to machine learning techniques for risk stratification and evaluate the predictive accuracy of the following algorithms: \n",
    "\n",
    "- logistic regression,\n",
    "- K-Nearest Neighbors (KNN),\n",
    "- Support Vector Machines (SVM),\n",
    "- Decision Tree,\n",
    "- Random Forest, and,\n",
    "- Artificial Neural Networks (ANN)\n",
    "\n",
    "These algorithms are evaluated based on the following performance metrics:\n",
    "\n",
    "-\tSensitivity (ability to correctly identify patients who experience recurrence), \n",
    "-\tSpecificity (ability to correctly identify those who do not), \n",
    "-\tPositive Predictive Value (PPV) (the probability that predicted recurrences are true), \n",
    "-\tNegative Predictive Value (NPV) (the probability that predicted non-recurrences are true),\n",
    "-\tArea Under the ROC curve (AUC) (overall discriminatory ability),\n",
    "-\tAccuracy (the proportion of correct classifications across all cases).\n",
    "\n",
    "#### Data Source and initial study\n",
    "\n",
    "The dataset in this study is publicly accessible and was generously provided by Borzooei et al., who published their original findings in 2024 [^2]. Thyroid cancer patients were followed prospectively for at least 10 years, to assess whether their cancer recurred, and  several demographic, clinical and pathological measures were collected. In total 383 patients were included, which is a relatively small sample size. A full description of the study design can be consulted in the published paper. While the study is longitudinal in design, it does not provide  time-to-event information which prevents the use of appropriate ML techniques tailored for longitudinal data [^3]. The lack of this crucial piece of information coerces us to focus instead on models that apply to binary outcomes, such as those cited above. \n",
    "\n",
    "#### Disclaimer\n",
    "  \n",
    "This project does not aim to replicate the original study by Borzooei et al. Rather, it demonstrates alternative analytic strategies for examining the same problem. Given these differences in methodological choices and assumptions, results were not expected to mirror those of the original study. \n",
    "This analysis is intended for educational and research purposes only and has not been peer-reviewed. While efforts have been made to ensure the accuracy of the methods and results, the author does not guarantee the correctness or completeness of the analysis. The author bears no responsibility or liability for any errors, omissions, or outcomes resulting from the use of this material. Use at your own discretion.\n",
    "\n",
    "\n",
    "\n",
    "[^1]: Kitahara CM, Schneider AB. Epidemiology of Thyroid Cancer. Cancer Epidemiol Biomarkers Prev. 2022 Jul 1;31(7):1284-1297. doi: 10.1158/1055-9965.EPI-21-1440. PMID: 35775227; PMCID: PMC9473679.\n",
    "\n",
    "[^2]: Borzooei S, Briganti G, Golparian M, Lechien JR, Tarokhian A. Machine learning for risk stratification of thyroid cancer patients: a 15-year cohort study. Eur Arch Otorhinolaryngol. 2024 Apr;281(4):2095-2104. doi: 10.1007/s00405-023-08299-w. Epub 2023 Oct 30. PMID: 37902840.\n",
    "\n",
    "[^3]: Cascarano, A., Mur-Petit, J., Hernández-González, J. et al. Machine and deep learning for longitudinal biomedical data: a review of methods and applications. Artif Intell Rev 56 (Suppl 2), 1711–1771 (2023). https://doi.org/10.1007/s10462-023-10561-w"
   ]
  },
  {
   "cell_type": "markdown",
   "id": "390af67a",
   "metadata": {},
   "source": [
    "### 2. Loading libraries and data"
   ]
  },
  {
   "cell_type": "markdown",
   "id": "f7a3b1c7",
   "metadata": {},
   "source": [
    " #### 2.1 Import libraries"
   ]
  },
  {
   "cell_type": "code",
   "execution_count": null,
   "id": "fb3587ad",
   "metadata": {},
   "outputs": [],
   "source": [
    "# =========================\n",
    "# Core libraries\n",
    "# =========================\n",
    "import warnings\n",
    "\n",
    "import numpy as np\n",
    "import pandas as pd\n",
    "\n",
    "# =========================\n",
    "# Visualization\n",
    "# =========================\n",
    "import matplotlib.pyplot as plt\n",
    "import plotly.express as px\n",
    "\n",
    "# =========================\n",
    "# Statistics & Modeling\n",
    "# =========================\n",
    "import statsmodels.formula.api as smf\n",
    "\n",
    "# =========================\n",
    "# Machine Learning (scikit-learn)\n",
    "# =========================\n",
    "\n",
    "# Preprocessing\n",
    "from sklearn.model_selection import train_test_split, GridSearchCV, StratifiedKFold\n",
    "from sklearn.pipeline import Pipeline\n",
    "from sklearn.compose import ColumnTransformer\n",
    "from sklearn.preprocessing import OneHotEncoder\n",
    "\n",
    "# Classifiers\n",
    "from sklearn.linear_model import LogisticRegression\n",
    "from sklearn.tree import DecisionTreeClassifier\n",
    "from sklearn.ensemble import RandomForestClassifier\n",
    "from sklearn.neighbors import KNeighborsClassifier\n",
    "from sklearn.svm import SVC\n",
    "from sklearn.neural_network import MLPClassifier\n",
    "\n",
    "# Calibration\n",
    "from sklearn.calibration import calibration_curve, CalibratedClassifierCV\n",
    "\n",
    "# Metrics\n",
    "from sklearn.metrics import (\n",
    "    accuracy_score, precision_score, recall_score, f1_score,\n",
    "    roc_auc_score, average_precision_score,\n",
    "    classification_report, confusion_matrix, ConfusionMatrixDisplay,\n",
    "    roc_curve, auc, precision_recall_curve, brier_score_loss\n",
    ")\n",
    "\n",
    "# =========================\n",
    "# Other analytical tools\n",
    "# =========================\n",
    "from tableone import TableOne\n",
    "\n",
    "# =========================\n",
    "# Import UCI ML repository\n",
    "# =========================\n",
    "\n",
    "from ucimlrepo import fetch_ucirepo \n",
    "\n",
    "# =========================\n",
    "# Suppress warnings\n",
    "# =========================\n",
    "warnings.filterwarnings(\"ignore\")\n"
   ]
  },
  {
   "cell_type": "markdown",
   "id": "b6021479",
   "metadata": {},
   "source": [
    "#### 2.1 Import dataset"
   ]
  },
  {
   "cell_type": "code",
   "execution_count": null,
   "id": "647c6722",
   "metadata": {},
   "outputs": [],
   "source": [
    "# fetch dataset \n",
    "differentiated_thyroid_cancer_recurrence = fetch_ucirepo(id=915) \n",
    "# data (as pandas dataframes) \n",
    "X = differentiated_thyroid_cancer_recurrence.data.features \n",
    "y = differentiated_thyroid_cancer_recurrence.data.targets \n",
    "  \n",
    "# metadata \n",
    "# print(differentiated_thyroid_cancer_recurrence.metadata) \n",
    "# variable information \n",
    "# print(differentiated_thyroid_cancer_recurrence.variables) \n",
    "# combine X and y into a single dataframe\n",
    "tcr_original = pd.concat([X, y], axis=1)"
   ]
  },
  {
   "cell_type": "markdown",
   "id": "46b6b47b",
   "metadata": {},
   "source": [
    "### 3. Data Exploration"
   ]
  },
  {
   "cell_type": "markdown",
   "id": "f7b8f51d",
   "metadata": {},
   "source": [
    "#### 3.1 Overview of the data"
   ]
  },
  {
   "cell_type": "code",
   "execution_count": null,
   "id": "a0f728b1",
   "metadata": {},
   "outputs": [],
   "source": [
    "tcr_raw = tcr_original.copy() \n",
    "tcr_raw.head()"
   ]
  },
  {
   "cell_type": "code",
   "execution_count": null,
   "id": "8a760f90",
   "metadata": {},
   "outputs": [],
   "source": [
    "print(tcr_raw.info())"
   ]
  },
  {
   "cell_type": "markdown",
   "id": "b465f0e5",
   "metadata": {},
   "source": [
    "<span style=\"font-size:14px\">\n",
    "We have 17 variables and 383 observations. We do not have any missing values\n"
   ]
  },
  {
   "cell_type": "markdown",
   "id": "2112a506",
   "metadata": {},
   "source": [
    "<span style=\"font-size:14px\">\n",
    "\n",
    "Variables description (see Borzooei et al. 2024 for more details):\n",
    "\n",
    "\n",
    "\n",
    "<strong><em>Demographics &amp; History</em></strong>\n",
    "\n",
    "- Age at diagnosis (in years)\n",
    "- Biological sex (Female, Male)\n",
    "- Current smoking status\n",
    "- Past smoking history\n",
    "- History of radiation therapy to head and neck region\n",
    "\n",
    "<strong><em>Thyroid Characteristics</em></strong>\n",
    "\n",
    "- Thyroid function: euthyroid, clinical/subclinical hypothyroidism or hyperthyroidism\n",
    "- Presence of goiter:diffuse, single nodular (left/right lobe), multinodular, normal\n",
    "\n",
    "<strong><em>Physical Exam Findings</em></strong>\n",
    "\n",
    "- Presence of adenopathy on physical exam: no adenopathy, anterior right, anterior left, bilateral, posterior, extensive (all locations)\n",
    "\n",
    "<strong><em>Cancer Pathology</em></strong>\n",
    "\n",
    "- Pathological subtype of cancer: papillary, micropapillary, follicular, Hürthle cell\n",
    "- Focality:unifocal, multifocal\n",
    "\n",
    "<strong><em>Staging & Risk</em></strong>\n",
    "\n",
    "- ATA risk assessment: low, intermediate, high\n",
    "- TNM staging: T score (Tumor size/local invasion),N score (Lymph node involvement), M score (Distant metastasis)\n",
    "- Final stage\n",
    "\n",
    "<strong><em>Treatment & Outcome</em></strong>\n",
    "\n",
    "- Initial treatment response: excellent, biochemical incomplete, structurally incomplete, indeterminate\n",
    "- Recurrence status: locoregional recurrence, distant metastasis"
   ]
  },
  {
   "cell_type": "markdown",
   "id": "673aa7af",
   "metadata": {},
   "source": [
    "### 3.2 Unvariate data exploration"
   ]
  },
  {
   "cell_type": "markdown",
   "id": "b4037a11",
   "metadata": {},
   "source": [
    "- Continouous variable (age at diagnosis)"
   ]
  },
  {
   "cell_type": "code",
   "execution_count": null,
   "id": "6fb7b9b8",
   "metadata": {},
   "outputs": [],
   "source": [
    "plt.figure(figsize=(7, 6))\n",
    "plt.hist(tcr_raw[\"Age\"], bins=30, color=\"#1b557c\", edgecolor=\"white\")\n",
    "plt.xlabel(\"Age\")\n",
    "plt.ylabel(\"Frequency\")\n",
    "plt.title(\"Histogram of Age\")\n",
    "ax = plt.gca()\n",
    "ax.spines[\"top\"].set_visible(False)\n",
    "ax.spines[\"right\"].set_visible(False)\n",
    "plt.show()\n"
   ]
  },
  {
   "cell_type": "code",
   "execution_count": null,
   "id": "93378cbd",
   "metadata": {},
   "outputs": [],
   "source": [
    "tcr_raw[\"Age\"].describe().round(2)"
   ]
  },
  {
   "cell_type": "markdown",
   "id": "fdc6af7a",
   "metadata": {},
   "source": [
    "<span style=\"font-size:14px\">\n",
    "Age ranges from 15 to 82 with a mean of 40.87 and a median of 37 (std=15.13, IQR=22)"
   ]
  },
  {
   "cell_type": "code",
   "execution_count": null,
   "id": "1242f879",
   "metadata": {},
   "outputs": [],
   "source": [
    "from scipy.stats import skew, kurtosis\n",
    "\n",
    "skew_age = skew(tcr_raw[\"Age\"], nan_policy=\"omit\").round(2)\n",
    "kurt_age = kurtosis(tcr_raw[\"Age\"], nan_policy=\"omit\").round(2)\n",
    "\n",
    "print(\"Skewness:\", skew_age)\n",
    "print(\"Kurtosis:\", kurt_age)\n"
   ]
  },
  {
   "cell_type": "markdown",
   "id": "52cbc35f",
   "metadata": {},
   "source": [
    "<span style=\"font-size:14px\">\n",
    "Age variable is moderately right-skewed (younger cluster, fewer older outliers) and a bit flatter than normal."
   ]
  },
  {
   "cell_type": "markdown",
   "id": "b4cb1511",
   "metadata": {},
   "source": [
    "<span style=\"font-size:14px\">\n",
    "we will create a Age groups based on American Thyroid Association (ATA) risk stratification guidelines\n",
    "\n",
    "https://doi.org/10.1089/thy.2019.0688"
   ]
  },
  {
   "cell_type": "code",
   "execution_count": null,
   "id": "40977355",
   "metadata": {},
   "outputs": [],
   "source": [
    "tcr_raw['Age category'] = pd.cut(tcr_raw['Age'], \n",
    "                                 bins=[0, 55, 100], # max age is 62\n",
    "                                 labels=['0-55', '55+'], \n",
    "                                 right=False)"
   ]
  },
  {
   "cell_type": "markdown",
   "id": "ab5978cb",
   "metadata": {},
   "source": [
    "- Categorical variables"
   ]
  },
  {
   "cell_type": "markdown",
   "id": "03a6c6d3",
   "metadata": {},
   "source": [
    "We decide to create a new variable for smoking status that combines current smoking status and past smoking history."
   ]
  },
  {
   "cell_type": "code",
   "execution_count": null,
   "id": "0bffec36",
   "metadata": {},
   "outputs": [],
   "source": [
    "import matplotlib.pyplot as plt\n",
    "\n",
    "# List of categorical variables to plot\n",
    "cat_vars = [\n",
    "    'Recurred', 'Age category', 'Gender', 'Smoking', 'Hx Smoking', \n",
    "    'Hx Radiothreapy', 'Thyroid Function', 'Physical Examination',\n",
    "    'Adenopathy', 'Pathology', 'Focality', 'Risk', 'T', 'N', 'M',\n",
    "    'Stage', 'Response'\n",
    "]\n",
    "\n",
    "# Number of plots\n",
    "n_vars = len(cat_vars)\n",
    "\n",
    "# Create figure with 2 columns\n",
    "fig, axes = plt.subplots(nrows=(n_vars + 1) // 2, ncols=2, figsize=(12, 4 * ((n_vars + 1) // 2)))\n",
    "axes = axes.flatten()  # flatten for easy iteration\n",
    "\n",
    "# Plot each categorical variable\n",
    "for i, var in enumerate(cat_vars):\n",
    "    tcr_raw[var].value_counts().plot(\n",
    "        kind=\"bar\",\n",
    "        ax=axes[i],\n",
    "        color=\"#1b557c\",\n",
    "        edgecolor=\"white\"\n",
    "    )\n",
    "    axes[i].set_title(var)\n",
    "    axes[i].set_xlabel(\"\")\n",
    "    axes[i].set_ylabel(\"Count\")\n",
    "    axes[i].spines[\"top\"].set_visible(False)\n",
    "    axes[i].spines[\"right\"].set_visible(False)\n",
    "\n",
    "# Hide unused subplots if odd number of vars\n",
    "for j in range(i + 1, len(axes)):\n",
    "    fig.delaxes(axes[j])\n",
    "\n",
    "plt.tight_layout()\n",
    "plt.show()\n"
   ]
  },
  {
   "cell_type": "markdown",
   "id": "0322b151",
   "metadata": {},
   "source": [
    "<span style=\"font-size:14px\">\n",
    "We observed that the majority of individuals did not experience recurrence compared to those who did. The cohort was characterized by a higher proportion of participants younger than 55, more females, non-smokers and non-current smokers, individuals without a history of radiotherapy, those with normal thyroid function, no evidence of adenopathy, and overall a lower-risk profile"
   ]
  },
  {
   "cell_type": "markdown",
   "id": "5d878aa4",
   "metadata": {},
   "source": [
    "### 3.3 Assessing multicollinearity among predictors"
   ]
  },
  {
   "cell_type": "code",
   "execution_count": null,
   "id": "0e64aab7",
   "metadata": {},
   "outputs": [],
   "source": [
    "mm = pd.get_dummies(tcr_raw.drop(['Age', 'Recurred'], axis=1), drop_first=True)\n",
    "corr_matrix = mm.corr()"
   ]
  },
  {
   "cell_type": "code",
   "execution_count": null,
   "id": "dcf9caf1",
   "metadata": {},
   "outputs": [],
   "source": [
    "mask = np.triu(np.ones_like(corr_matrix, dtype=bool))\n",
    "corr_masked = corr_matrix.mask(mask)\n",
    "\n",
    "fig = px.imshow(\n",
    "    corr_masked,\n",
    "    text_auto=\".2f\",  \n",
    "    color_continuous_scale=[\"#ebf2f6\", \"#aed6f1\", \"#3498db\"],\n",
    "    aspect=\"auto\"\n",
    ")\n",
    "\n",
    "fig.update_layout(\n",
    "    width=1000,\n",
    "    height=900,\n",
    "    font=dict(size=8, color=\"#1b557c\"),       \n",
    "    xaxis=dict(\n",
    "        tickangle=-45,\n",
    "        showticklabels=True,\n",
    "        showgrid=True,\n",
    "        zeroline=False\n",
    "    ),\n",
    "    yaxis=dict(\n",
    "        showticklabels=True,\n",
    "        showgrid=True,\n",
    "        zeroline=False\n",
    "    ),\n",
    "    title=\"Correlation Heatmap\",\n",
    "    plot_bgcolor='white',\n",
    "    paper_bgcolor='white'\n",
    ")\n",
    "\n",
    "fig.show()"
   ]
  },
  {
   "cell_type": "markdown",
   "id": "ecfb3faf",
   "metadata": {},
   "source": [
    "<span style=\"font-size:14px\">\n",
    "From this correlation matrix, we can see that there is strong correlation between for instance\n",
    "\n",
    "- low risk (ATA) and no adenopathy with a pearson correlation coefficient of 0.68\n",
    "- low risk (ATA) and response excellent with a pearson correlation coefficient of 0.60\n",
    "- Stage IVB and M1 with a pearson correlation coefficient of 0.70\n"
   ]
  },
  {
   "cell_type": "markdown",
   "id": "a9d986b4",
   "metadata": {},
   "source": [
    "<span style=\"font-size:14px\">\n",
    "In the code below, we create a code to identify in the  pairwise manner, the correlation among predictors of recurrence of thyroid cancer."
   ]
  },
  {
   "cell_type": "code",
   "execution_count": null,
   "id": "a550e957",
   "metadata": {},
   "outputs": [],
   "source": [
    "mask = np.triu(np.ones_like(corr_matrix, dtype=bool), k=1)\n",
    "filtered = corr_matrix.where(mask)\n",
    "\n",
    "strong_corr = filtered.stack().reset_index()\n",
    "strong_corr.columns = ['Feature 1', 'Feature 2', 'Correlation']\n",
    "\n",
    "threshold = 0.6\n",
    "strong_corr = strong_corr[strong_corr['Correlation'].abs() > threshold]\n",
    "\n",
    "strong_corr = strong_corr.reindex(strong_corr['Correlation'].abs().sort_values(ascending=False).index)\n",
    "\n",
    "print(strong_corr)\n"
   ]
  },
  {
   "cell_type": "markdown",
   "id": "f969ab96",
   "metadata": {},
   "source": [
    "<span style=\"font-size:14px\">\n",
    "We identify the same correlated variables such as low risk and no adenopathy, metastasis and stage IVB etc. Therefore, it is the right time to discuss about cancer classification and what is conveyed by these variables.\n",
    "\n",
    "What is tumor staging?\n",
    "Tumor staging conveys information about the size of the tumor and the extend to which it has spread in the body. It is a clinical management tool, since a localized tumor could benefit from simple resection with an appropriate follow-up,whereas metastasized tumors would require surgery and aggressive adjuvant therapies such as radiation or chemotherapy among others.\n",
    "Staging may differ between cancer types, but the TNM system is the most widely used. For thyroid cancer for instance, staging is based on the American Joint Committee on Cancer (AJCC) Tumor, Node, Metastasis (TNM) system.\n",
    "- T describes the size of the original (primary) tumor and whether it has invaded nearby tissue,\n",
    "- N describes nearby (regional) lymph nodes that are involved,\n",
    "- M describes distant metastasis (spread of cancer from one part of the body to another).\n",
    "  \n",
    "So, basically, staging is some form of summarizing the information contained in T, N, and M scores, for clinical management purposes. Similarly, an adenopathy is just a lymph node involvement (N score). Therefore, it is expected that there is a correlation between adenopathy and N score. At the physical examination, the physician will assess the size of the tumor wich is part of the T score in the TNM system.\n",
    "\n",
    "We can already see that having the stage itself forfeits the need for T, N, M scores as well as adenopathy and physical examination. Likewise, the ATA risk stratification is a summary of several variables including the type, differentiation, local and regional invasion an distant metastis among other.\n",
    "\n",
    "From a machine learning perspective, algorithms vary in their sensitivity to multicollinearity. Linear and logistic regression are highly susceptible, as strong correlations among predictors can destabilize coefficient estimates and hinder interpretation. In contrast, tree-based methods such as decision trees and random forests are generally more resilient to multicollinearity. Nonetheless, even in these models, multicollinearity may still reduce the interpretability of results by obscuring the relative importance of individual features.\n",
    "\n",
    "We will run different sets of models with or without correlated variables.\n"
   ]
  },
  {
   "cell_type": "markdown",
   "id": "22f9195f",
   "metadata": {},
   "source": [
    "<span style=\"font-size:14px\">\n",
    "For the purpose of the statistical logistic regression, we decide to collapse some categories, which conveys more meaningful information and avoid issues with small sample sizes in some categories."
   ]
  },
  {
   "cell_type": "code",
   "execution_count": null,
   "id": "39fb3019",
   "metadata": {},
   "outputs": [],
   "source": [
    "# Smoking status: Yes vs. No\n",
    "tcr_raw['Smoking status'] = tcr_raw.apply(\n",
    "    lambda row: \"Yes\" \n",
    "                if (row['Smoking'] == \"Yes\" or row['Hx Smoking'] == \"Yes\") \n",
    "                else \"No\",\n",
    "    axis=1\n",
    ")\n",
    "\n",
    "# Thyroid function: Euthyroid vs. Else\n",
    "tcr_raw['Thyroid_01'] = (\n",
    "    tcr_raw['Thyroid Function']\n",
    "    .astype(str).str.strip().str.lower()\n",
    "    .map(lambda x: 'euthyroid' if x == 'euthyroid' else 'non-euthyroid')\n",
    ")\n",
    "\n",
    "# Physical Examination: Normal vs. Else\n",
    "tcr_raw['Physical_01'] = (\n",
    "    tcr_raw['Physical Examination']\n",
    "    .astype(str).str.strip().str.lower()\n",
    "    .map(lambda x: 'Normal' if x == 'normal' else 'goiter')\n",
    "    )\n",
    "\n",
    "# Adenopathy: Yes vs. No\n",
    "tcr_raw['Adenopathy_01'] = (\n",
    "    tcr_raw['Adenopathy']\n",
    "    .astype(str).str.strip().str.lower()\n",
    "    .map(lambda x: 'No' if x == 'no' else 'yes')\n",
    "    )\n",
    "\n",
    "# Response: Excellent vs. Else\n",
    "tcr_raw['Response_01'] = (\n",
    "    tcr_raw['Response']\n",
    "    .astype(str).str.strip().str.lower()\n",
    "    .map(lambda x:  'excellent' if x == 'excellent' else 'not-excellent')\n",
    ")"
   ]
  },
  {
   "cell_type": "markdown",
   "id": "910d49aa",
   "metadata": {},
   "source": [
    "#### 3.4 Distribution of features by recurrence status"
   ]
  },
  {
   "cell_type": "code",
   "execution_count": null,
   "id": "9ae08dab",
   "metadata": {},
   "outputs": [],
   "source": [
    "columns = ['Age', 'Age category', 'Gender', 'Smoking status',\n",
    "           'Smoking', 'Hx Smoking', 'Thyroid Function','Thyroid_01', \n",
    "           'Physical Examination', 'Physical_01', 'Adenopathy', 'Adenopathy_01',        \n",
    "           'Hx Radiothreapy', 'Pathology', 'Focality', \n",
    "           'Risk', 'T', 'N', 'M', 'Stage', 'Response', 'Response_01']\n",
    "\n",
    "categorical = ['Age category', 'Gender', 'Smoking status',\n",
    "           'Smoking', 'Hx Smoking', 'Thyroid Function','Thyroid_01', \n",
    "           'Physical Examination', 'Physical_01', 'Adenopathy', 'Adenopathy_01',        \n",
    "           'Hx Radiothreapy', 'Pathology', 'Focality', \n",
    "           'Risk', 'T', 'N', 'M', 'Stage', 'Response', 'Response_01']\n",
    "table1 = TableOne(data=tcr_raw, columns=columns, categorical=categorical,\n",
    "                  groupby='Recurred', pval=True)\n",
    "print(table1) "
   ]
  },
  {
   "cell_type": "markdown",
   "id": "613cb23d",
   "metadata": {},
   "source": [
    "<span style=font-size:14px>\n",
    "As expected, compared to individuals without recurrence, those with recurrence were more likely to be older (39.8% aged over 55 years versus 12.7%), to have a current or past history of smoking (34.3% versus 10.2%), and to present with more advanced cancer stages (stage II or higher). Nearly all individuals with recurrence had a non-excellent response to initial treatment (99.1% versus 24.7%)."
   ]
  },
  {
   "cell_type": "markdown",
   "id": "1622aba6",
   "metadata": {},
   "source": [
    "### 4. Modeling"
   ]
  },
  {
   "cell_type": "markdown",
   "id": "acbb0dd5",
   "metadata": {},
   "source": [
    "### 4.1 Statistical logistic regression"
   ]
  },
  {
   "cell_type": "markdown",
   "id": "2b16cfda",
   "metadata": {},
   "source": [
    "### 4.1.1 Problem statement"
   ]
  },
  {
   "cell_type": "markdown",
   "id": "2a5ef774",
   "metadata": {},
   "source": [
    "<span style=font-size:14px>\n",
    "In traditional statistical research, we would explore the relationship between one or more predictors and a response variable, sometimes from a causal perspective. This implies formulating a research question and proceeding with the hypothesis testing. In this particular project, we could hypothesize that:\n",
    "\n",
    "- Null hypothesis: patients who had recurrence of thyroid cancer do not differ from those who did not have recurrence with respect to whether they ever smoked or not.\n",
    "- Alternative hypothesis: patients who had recurrence of thyroid cancer differ from those who did not have recurrence with respect to whether they ever smoked or not.\n",
    "\n",
    "Note that we would use the whole dataset and produce parameter estimates and p-values. We will evaluate how good our model fits the data at hand, and identify the signigicance of the association (probably from a causal perspective since we have a prospective cohort) between smoking and reecurrence in this case. For instance, we may find that people who smoke or had a history of smoking, have higher odds of recurrence compared to people who never smoked. However, with this approach we would not be able to make predictions on new data."
   ]
  },
  {
   "cell_type": "markdown",
   "id": "02b29223",
   "metadata": {},
   "source": [
    "<span style=font-size:14px>\n",
    "As mentioned earlier, we exclude some variables from the model to avoid multicollinearity. We will consider smoking status (ever/never smoked), as our exposure of insterest, and hypothesize that people who ever smoked have higher odds of recurrence compared to people who never smoked, adjusting for other predictors. \n",
    "\n",
    "We will run several models with different sets of predictors. As shown in Table 1, several predictors exhibit sparse or highly imbalanced categories that create quasi-complete or perfect separation, such as Response (with “Excellent” almost always non-recurrent and “Structural Incomplete” almost always recurrent), advanced T stages (T4b exclusively recurrent, T4a and T3b heavily skewed), and M stage (M1 always recurrent), all of which can lead to convergence issues in logistic regression. The observation is true for Stage where all stages higher or equal to stage III recurred. Moreover, some variables are highly correlated, such as Stage with T, N, M scores and adenopathy and risk stratification which is a composite of several variables. We will therefore exclude these variables from our models."
   ]
  },
  {
   "cell_type": "code",
   "execution_count": null,
   "id": "7e9dfb4f",
   "metadata": {},
   "outputs": [],
   "source": [
    "# Formatting for logistic regression\n",
    "tcr_log0 = tcr_raw.copy()\n",
    "tcr_log0['Recurred_01'] = (\n",
    "    tcr_log0['Recurred']\n",
    "    .astype(str).str.strip().str.lower()\n",
    "    .map({'yes': 1, 'no': 0})\n",
    ")\n",
    "\n",
    "tcr_log1 = tcr_log0.rename(columns={\n",
    "    \"Age category\": \"Age_category\",\n",
    "    \"Smoking status\": \"Smoking_status\",\n",
    "    \"Hx Radiothreapy\": \"Hx_Radiotherapy\",\n",
    "    \"Physical Examination\": \"Physical_Examination\"  \n",
    "})\n",
    "\n",
    "tcr_log = tcr_log1.drop(columns=['Age', 'Smoking', 'Hx Smoking', 'Thyroid Function', 'Response', \n",
    "                                 'Response_01', 'T', 'N', 'M', 'Stage', 'Adenopathy', 'Physical_Examination', \"Risk\"])"
   ]
  },
  {
   "cell_type": "markdown",
   "id": "d9678662",
   "metadata": {},
   "source": [
    "### 4.1.1 Distribution of variables by EXPOSURE status"
   ]
  },
  {
   "cell_type": "code",
   "execution_count": null,
   "id": "cf81869a",
   "metadata": {},
   "outputs": [],
   "source": [
    "tcr_log.columns"
   ]
  },
  {
   "cell_type": "code",
   "execution_count": null,
   "id": "1ebf236b",
   "metadata": {},
   "outputs": [],
   "source": [
    "columns = ['Recurred', 'Age_category', 'Gender', 'Thyroid_01', 'Physical_01', 'Adenopathy_01',\n",
    "           'Hx_Radiotherapy', 'Pathology', 'Focality']\n",
    "\n",
    "categorical = ['Recurred', 'Age_category', 'Gender', 'Thyroid_01', \n",
    "               'Physical_01','Hx_Radiotherapy', 'Pathology', 'Focality', \n",
    "       \n",
    "       'Adenopathy_01']\n",
    "table_log = TableOne(data=tcr_log, columns=columns, categorical=categorical,\n",
    "                  groupby='Smoking_status', pval=True)\n",
    "print(table_log ) "
   ]
  },
  {
   "cell_type": "code",
   "execution_count": null,
   "id": "77a2fc37",
   "metadata": {},
   "outputs": [],
   "source": [
    "tcr_raw.columns"
   ]
  },
  {
   "cell_type": "markdown",
   "id": "0a547e07",
   "metadata": {},
   "source": [
    "<span style=font-size:14px>\n",
    "\n",
    "From this table, we can see that more than half (56.9%) of people who ever smoked had recurrence, whereas 22.3% (71 out of 247) of people who never smoked had recurrence. "
   ]
  },
  {
   "cell_type": "markdown",
   "id": "11513865",
   "metadata": {},
   "source": [
    "<span style=font-size:14px>\n",
    "The stepwise approach in regression modeling is considered outdated and generally not advised. One should build a causal diagram in the form of a Directed Acyclic Graph (DAG) to identify confounders, mediators, effect measure modifiers, and colliders, and decide which variables to include in the model based on this causal framework. We will adopt both approaches here with first a DAG-based model, then a stepwise approach.\n"
   ]
  },
  {
   "cell_type": "markdown",
   "id": "13b66d12",
   "metadata": {},
   "source": [
    "### 4.1.3 Causal diagram (DAG) for recurrence of thyroid cancer"
   ]
  },
  {
   "cell_type": "code",
   "execution_count": null,
   "id": "159feb60",
   "metadata": {},
   "outputs": [],
   "source": [
    "import networkx as nx\n",
    "import matplotlib.pyplot as plt\n",
    "\n",
    "# Define DAG\n",
    "G = nx.DiGraph()\n",
    "edges = [\n",
    "    (\"Smoking\", \"Recurrence\"),\n",
    "    (\"Age\", \"Smoking\"),\n",
    "    (\"Age\", \"Recurrence\"),\n",
    "    (\"Sex\", \"Smoking\"),\n",
    "    (\"Sex\", \"Recurrence\"),\n",
    "    (\"Thyroid function\", \"Recurrence\"),\n",
    "    (\"Physical examination\", \"Recurrence\"),\n",
    "    (\"Pathology\", \"Recurrence\"),\n",
    "    (\"Focality\", \"Recurrence\"),\n",
    "    (\"TNM, Stage, Response, Risk\", \"Recurrence\"),\n",
    "    (\"Recurrence\", \"History of Radiotherapy\")\n",
    "]\n",
    "G.add_edges_from(edges)\n",
    "\n",
    "# Node groups\n",
    "exposure = [\"Smoking\"]\n",
    "outcome = [\"Recurrence\"]\n",
    "confounders = [\"Age\", \"Sex\"]\n",
    "instrumental = [\"Thyroid function\", \"Physical examination\", \"Pathology\", \"Focality\"]\n",
    "collider = [\"History of Radiotherapy\"]\n",
    "excluded = [\"TNM, Stage, Response, Risk\"]\n",
    "\n",
    "# Assign colors\n",
    "node_colors = []\n",
    "for node in G.nodes():\n",
    "    if node in exposure:\n",
    "        node_colors.append(\"orange\")   # exposure\n",
    "    elif node in outcome:\n",
    "        node_colors.append(\"red\")      # outcome\n",
    "    elif node in confounders:\n",
    "        node_colors.append(\"lightgreen\")  # confounders\n",
    "    elif node in instrumental:\n",
    "        node_colors.append(\"lightblue\")  # instrumental variables\n",
    "    elif node in collider:\n",
    "        node_colors.append(\"orange\")  # collider\n",
    "    elif node in excluded:\n",
    "        node_colors.append(\"purple\")  # excluded\n",
    "    else:\n",
    "        node_colors.append(\"white\")  # fallback\n",
    "\n",
    "# Manual layout (x, y coordinates)\n",
    "pos = {\n",
    "    \"Smoking\": (0, 0),\n",
    "    \"Age\": (1, 5),\n",
    "    \"Sex\": (1, 3.5),\n",
    "    \"Thyroid function\": (1, 2),\n",
    "    \"Physical examination\": (1, 0.7),\n",
    "    \"Pathology\": (1, -1),\n",
    "    \"Focality\": (1, -2.5),\n",
    "    \"Recurrence\": (2, 0),\n",
    "    \"History of Radiotherapy\": (2, -2),\n",
    "    \"TNM, Stage, Response, Risk\": (2, 4)\n",
    "}\n",
    "\n",
    "# Draw DAG\n",
    "plt.figure(figsize=(10,6))\n",
    "nx.draw(\n",
    "    G,\n",
    "    pos,\n",
    "    with_labels=True,\n",
    "    node_size=4000,\n",
    "    node_color=node_colors,\n",
    "    font_size=10,\n",
    "    arrowsize=20,\n",
    "    edgecolors=\"black\"\n",
    ")\n",
    "plt.axis(\"off\")\n",
    "plt.show()\n"
   ]
  },
  {
   "cell_type": "markdown",
   "id": "9b777d60",
   "metadata": {},
   "source": [
    "<span style=font-size:14px>\n",
    "\n",
    "- Based on theoretical knowledge and literature, we construct the DAG above and we will only adjust for age and sex as confounders in the model."
   ]
  },
  {
   "cell_type": "code",
   "execution_count": null,
   "id": "afe6dc03",
   "metadata": {},
   "outputs": [],
   "source": [
    "formula_dag = (\n",
    "    \"Recurred_01 ~ C(Smoking_status) + C(Age_category) + C(Gender)\"\n",
    ")\n",
    "\n",
    "log_model_dag = smf.logit(formula=formula_dag, data=tcr_log).fit()\n",
    "log_model_dag.summary()"
   ]
  },
  {
   "cell_type": "code",
   "execution_count": null,
   "id": "94fdd60f",
   "metadata": {},
   "outputs": [],
   "source": [
    "params = log_model_dag.params\n",
    "conf = log_model_dag.conf_int()\n",
    "\n",
    "conf['OR'] = params\n",
    "conf.columns = ['2.5%', '97.5%', 'OR']\n",
    "\n",
    "conf['p-value'] = log_model_dag.pvalues\n",
    "\n",
    "results = conf.copy()\n",
    "results[['2.5%', '97.5%', 'OR']] = np.exp(results[['2.5%', '97.5%', 'OR']])\n",
    "\n",
    "print(results.round(3))\n"
   ]
  },
  {
   "cell_type": "markdown",
   "id": "40b2c032",
   "metadata": {},
   "source": [
    "<span style=font-size:14px>\n",
    "In this DAG based model, ever smoking \"causes\" recurrence of thyroid cancer, and people who ever smoked had 2 times the odds of recurrencecompared to those who never smoked, adjusting for age and gender (Adj OR= 2.036, 95% CI = [1.028, 4.031 ]). \n",
    "\n",
    "The model performed better than the intercept only model, with a Log-Likelihood of -194.54 versus -227.82 for the null. The pseudo R² (McFadden’s R²) of 0.146 suggest however, a moderate effect size, and the model explains about 14.6% of the variation in recurrence."
   ]
  },
  {
   "cell_type": "markdown",
   "id": "37eef181",
   "metadata": {},
   "source": [
    "### 4.1.4 Adjusting for other predictors - stepwise approach"
   ]
  },
  {
   "cell_type": "markdown",
   "id": "6f08c7a4",
   "metadata": {},
   "source": [
    "<span style=font-size:14px>\n",
    "\n",
    "- Model 1: recurrence as a function of smoking status, controlled for age category, gender, thyroid function , physical examination, and adenopathy.\n",
    "  "
   ]
  },
  {
   "cell_type": "code",
   "execution_count": null,
   "id": "53870ad5",
   "metadata": {},
   "outputs": [],
   "source": [
    "formula1 = (\n",
    "    \"Recurred_01 ~ C(Smoking_status) + C(Age_category) + C(Gender) + \" \n",
    "    \"C(Thyroid_01) + C(Physical_01) + C(Adenopathy_01)\"     \n",
    ")\n",
    "\n",
    "log_model1 = smf.logit(formula=formula1, data=tcr_log).fit()\n",
    "log_model1.summary()"
   ]
  },
  {
   "cell_type": "markdown",
   "id": "f32f8e08",
   "metadata": {},
   "source": [
    "<span style=font-size:14px>\n",
    "Model fit:\n",
    "\n",
    "- Pseudo R-squared (McFadden’s R²) = 0.4397 → The predictors account for a ~44% improvement in model fit over an intercept-only model, based on McFadden’s pseudo R².\n",
    "\n",
    "- Log-Likelihood (LL) = -127.64 vs LL-Null = -227.82 → The fitted model improves the log-likelihood considerably over a null model (intercept-only).\n",
    "\n",
    "- Likelihood Ratio (LR) test p-value = 1.6 × 10⁻⁴⁰ → Extremely significant, confirming that the model as a whole fits the data much better than a null model."
   ]
  },
  {
   "cell_type": "code",
   "execution_count": null,
   "id": "1d7f55ec",
   "metadata": {},
   "outputs": [],
   "source": [
    "params = log_model1.params\n",
    "conf = log_model1.conf_int()\n",
    "\n",
    "conf['OR'] = params\n",
    "conf.columns = ['2.5%', '97.5%', 'OR']\n",
    "\n",
    "conf['p-value'] = log_model1.pvalues\n",
    "\n",
    "results = conf.copy()\n",
    "results[['2.5%', '97.5%', 'OR']] = np.exp(results[['2.5%', '97.5%', 'OR']])\n",
    "\n",
    "print(results.round(3))\n"
   ]
  },
  {
   "cell_type": "markdown",
   "id": "1ef5392b",
   "metadata": {},
   "source": [
    "<span style=\"font-size:14px\">\n",
    "\n",
    "In this adjusted model, having a positive smoking history (ever smoked) was not associated with higher odds of thyroid cancer recurrence compared to never smokers (p = 0.329), after adjusting for other factors. This finding is consistent with the current literature, which has not established smoking as a significant risk factor for thyroid cancer or its recurrence[^1]. To the contrary, some studies have reported an inverse relationship between smoking and thyroid cancer, although such conclusions should be interpreted with caution[^2].  \n",
    "\n",
    "We also noted separation issues with some variables, such as adenopathy and, to a lesser extent, age category. Therefore, adenopathy will not be included in subsequent models.  \n",
    "\n",
    "[^1]: Jiang H, Li Yi, Shen J, et al. *Cigarette smoking and thyroid cancer risk: A Mendelian randomization study*. Cancer Med. 2023;12:19866–19873. doi:10.1002/cam4.6570  \n",
    "[^2]: Lee JH, Chai YJ, Yi KH. *Effect of cigarette smoking on thyroid cancer: Meta-analysis*. Endocrinol Metab (Seoul). 2021 Jun;36(3):590–598. doi:10.3803/EnM.2021.954. PMID: 34034364; PMCID: PMC8258339.  \n",
    "</span>\n"
   ]
  },
  {
   "cell_type": "markdown",
   "id": "aa71941c",
   "metadata": {},
   "source": [
    "<span style=font-size:14px>\n",
    "\n",
    "- Model 2: recurrence as a function of smoking status, controlled for age category, gender, thyroid function , physical examination, and history of radiotherapy.\n"
   ]
  },
  {
   "cell_type": "code",
   "execution_count": null,
   "id": "936cca3a",
   "metadata": {},
   "outputs": [],
   "source": [
    "formula2 = (\n",
    "    \"Recurred_01 ~ C(Smoking_status) + C(Age_category) + C(Gender) + \" \n",
    "    \"C(Thyroid_01) + C(Physical_01) + C(Adenopathy_01) + C(Hx_Radiotherapy)\"   \n",
    ")\n",
    "\n",
    "log_model2 = smf.logit(formula=formula2, data=tcr_log).fit()\n",
    "log_model2.summary()"
   ]
  },
  {
   "cell_type": "markdown",
   "id": "d5c31463",
   "metadata": {},
   "source": [
    "<span style=font-size:14px>\n",
    "Model fit:\n",
    "adding focality did not improve the model fit compared to model 1 (with 0.4433 and LLR of -126.82)."
   ]
  },
  {
   "cell_type": "code",
   "execution_count": null,
   "id": "8ea43b22",
   "metadata": {},
   "outputs": [],
   "source": [
    "params = log_model2.params\n",
    "conf = log_model2.conf_int()\n",
    "conf['OR'] = params\n",
    "conf.columns = ['2.5%', '97.5%', 'OR']\n",
    "\n",
    "conf['p-value'] = log_model2.pvalues\n",
    "\n",
    "results = conf.copy()\n",
    "results[['2.5%', '97.5%', 'OR']] = np.exp(results[['2.5%', '97.5%', 'OR']])\n",
    "\n",
    "print(results.round(3))"
   ]
  },
  {
   "cell_type": "markdown",
   "id": "d68a3800",
   "metadata": {},
   "source": [
    "<span style=\"font-size:14px\">\n",
    "\n",
    "We still don't find a significant association between ever smoking and thyroid cancer recurrence, adjusting for the other selected predictors. "
   ]
  },
  {
   "cell_type": "markdown",
   "id": "8f922ce6",
   "metadata": {},
   "source": [
    "<span style=font-size:14px>\n",
    "\n",
    "- Model 3: recurrence as a function of smoking status, controlled for age category, gender, thyroid function , physical examination, history of radiotherapy, focality and pathology."
   ]
  },
  {
   "cell_type": "code",
   "execution_count": null,
   "id": "d8161373",
   "metadata": {},
   "outputs": [],
   "source": [
    "formula3 = (\n",
    "    \"Recurred_01 ~ C(Smoking_status) + C(Age_category) + C(Gender) + \" \n",
    "    \"C(Thyroid_01) + C(Physical_01) + C(Adenopathy_01) + C(Hx_Radiotherapy) + C(Focality) + \" \n",
    "    \"C(Pathology)\"   \n",
    ")\n",
    "\n",
    "log_model3 = smf.logit(formula=formula3, data=tcr_log).fit()\n",
    "log_model3.summary()"
   ]
  },
  {
   "cell_type": "code",
   "execution_count": null,
   "id": "b507f31f",
   "metadata": {},
   "outputs": [],
   "source": [
    "params = log_model3.params\n",
    "conf = log_model3.conf_int()\n",
    "conf['OR'] = params\n",
    "conf.columns = ['2.5%', '97.5%', 'OR']\n",
    "\n",
    "conf['p-value'] = log_model3.pvalues\n",
    "\n",
    "results = conf.copy()\n",
    "results[['2.5%', '97.5%', 'OR']] = np.exp(results[['2.5%', '97.5%', 'OR']])\n",
    "\n",
    "print(results.round(3))"
   ]
  },
  {
   "cell_type": "markdown",
   "id": "ce559d61",
   "metadata": {},
   "source": [
    "<span style=font-size:14px>\n",
    "Still no significant association between ever smoking and thyroid cancer recurrence, adjusting for the other selected predictors."
   ]
  },
  {
   "cell_type": "markdown",
   "id": "fb4a878b",
   "metadata": {},
   "source": [
    "### 4.1.5 Conclusion"
   ]
  },
  {
   "cell_type": "code",
   "execution_count": null,
   "id": "bc9699d4",
   "metadata": {},
   "outputs": [],
   "source": [
    "models = {\n",
    "    \"Model 1\": log_model_dag,\n",
    "    \"Model 2\": log_model1,\n",
    "    \"Model 3\": log_model2,\n",
    "    \"Model 4\": log_model3\n",
    "    \n",
    "\n",
    "}\n",
    "\n",
    "summary_data = []\n",
    "\n",
    "for name, model in models.items():\n",
    "    # number of predictors = Df Model\n",
    "    df_model = int(model.df_model)\n",
    "    # number of estimated parameters (predictors + intercept)\n",
    "    k = int(df_model + 1)\n",
    "    # log-likelihood\n",
    "    ll = model.llf\n",
    "    # pseudo R²\n",
    "    pseudo_r2 = model.prsquared\n",
    "    # AIC and BIC (available directly)\n",
    "    aic = model.aic\n",
    "    bic = model.bic\n",
    "    \n",
    "    summary_data.append([name, df_model, ll, pseudo_r2, aic, bic])\n",
    "\n",
    "# Create DataFrame\n",
    "summary_table = pd.DataFrame(summary_data, \n",
    "                             columns=[\"Model\", \"Predictors\", \"Log-Likelihood\", \n",
    "                                      \"Pseudo R² (McFadden)\", \"AIC\", \"BIC\"])\n",
    "\n",
    "print(summary_table.round(3))\n"
   ]
  },
  {
   "cell_type": "markdown",
   "id": "eaf26ed1",
   "metadata": {},
   "source": [
    "<span style=font-size:14px>\n",
    "\n",
    "In conclusion:\n",
    "\n",
    "- Model 1 is the original DAG-based model, based on theoretical knowledge and literature. This is the only model which shows a significant association between smoking and recurrence of thyroid cancer.\n",
    "- Model 2 is the most parsimonious, with 6 predictors, a Pseudo R² of 0.44, and the lowest BIC (296.9). This suggests it balances fit and simplicity well.\n",
    "- Model 3 adds one more predictor but provides only a negligible improvement in fit (Pseudo R² 0.443, LL –126.8). Its AIC and BIC are worse than Model 1, so it does not justify the extra complexity.\n",
    "- Model 4 includes 11 predictors and shows the best overall fit (highest Pseudo R² = 0.496, lowest AIC = 253.8). However, its BIC (301.2) is higher than Model 1, reflecting a greater penalty for complexity.\n",
    "\n",
    "Modern epidemiological theory emphasize the need for a causal framework to guide variables selection in regression modeling. The DAG-based model (Model 1) is therefore preferred, as it is grounded in theoretical knowledge and literature, and avoids the pitfalls of stepwise selection."
   ]
  }
 ],
 "metadata": {
  "kernelspec": {
   "display_name": "Python 3",
   "language": "python",
   "name": "python3"
  },
  "language_info": {
   "codemirror_mode": {
    "name": "ipython",
    "version": 3
   },
   "file_extension": ".py",
   "mimetype": "text/x-python",
   "name": "python",
   "nbconvert_exporter": "python",
   "pygments_lexer": "ipython3",
   "version": "3.13.4"
  }
 },
 "nbformat": 4,
 "nbformat_minor": 5
}
