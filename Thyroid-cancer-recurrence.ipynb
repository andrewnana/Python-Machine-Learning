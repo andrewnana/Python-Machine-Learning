{
 "cells": [
  {
   "cell_type": "markdown",
   "id": "227bd72a",
   "metadata": {},
   "source": [
    "Predicting recurrence of thyroid cancer"
   ]
  },
  {
   "cell_type": "markdown",
   "id": "b1fc6fef",
   "metadata": {},
   "source": [
    "### 1. Introduction"
   ]
  },
  {
   "cell_type": "markdown",
   "id": "f8d50222",
   "metadata": {},
   "source": [
    "<span style=\"font-size:14px\">\n",
    "\n",
    "Background: Thyroid cancer is one of the most common endocrine malignancies, with a generally favorable prognosis but a non-negligible risk of recurrence. Understanding the epidemiology and recurrence patterns is crucial for guiding clinical decision-making and long-term patient management. Traditional statistical methods have been widely applied to evaluate associations between clinical and demographic predictors and thyroid cancer recurrence, providing valuable but sometimes limited insights.\n",
    "\n",
    "Purpose: The present project explores recurrence in thyroid cancer patients using both classical and modern analytic techniques. Initially, we applied conventional logistic regression to examine associations between several predictors and recurrence. We then transitioned to machine learning approaches for risk stratification and assess predictive performance, testing scenarios with and without correlated features. This dual strategy allows for both interpretability through statistical models and predictive optimization through machine learning techniques.\n",
    "\n",
    "Data Source: The dataset consists of a prospective cohort of 383 thyroid cancer patients who were followed for a minimum duration of 10 years to evaluate recurrence outcomes. While the study is longitudinal in design, it does not provide precise time-to-event information. Consequently, survival models such as Cox regression were not applicable, and we instead focused on binary recurrence outcomes.\n",
    "\n",
    "Disclaimer: This project does not aim to replicate the original study by Borzooei et al. Rather, it demonstrates alternative analytic strategies for examining the same problem. Given these differences in methodological choices and assumptions, results were not expected to mirror those of the original study."
   ]
  },
  {
   "cell_type": "markdown",
   "id": "390af67a",
   "metadata": {},
   "source": [
    "### 2. Loading libraries and data"
   ]
  },
  {
   "cell_type": "markdown",
   "id": "f7a3b1c7",
   "metadata": {},
   "source": [
    " #### 2.1 Import libraries"
   ]
  },
  {
   "cell_type": "code",
   "execution_count": 1,
   "id": "fb3587ad",
   "metadata": {},
   "outputs": [
    {
     "name": "stderr",
     "output_type": "stream",
     "text": [
      "C:\\Users\\nanaw\\AppData\\Local\\Temp\\ipykernel_29376\\4156261965.py:37: DeprecationWarning: Importing display from IPython.core.display is deprecated since IPython 7.14, please import from IPython.display\n",
      "  from IPython.core.display import display, HTML\n"
     ]
    }
   ],
   "source": [
    "# Core libraries\n",
    "import pandas as pd\n",
    "import numpy as np\n",
    "import warnings\n",
    "from collections import OrderedDict\n",
    "\n",
    "# Visualization\n",
    "import matplotlib.pyplot as plt\n",
    "import seaborn as sns\n",
    "import missingno as msno  # Visualizing missing data\n",
    "from matplotlib.colors import LinearSegmentedColormap\n",
    "import plotly.express as px\n",
    "\n",
    "\n",
    "# Statistics & Modeling\n",
    "import scipy.stats as stats\n",
    "from scipy.stats import chi2_contingency, kruskal\n",
    "import statsmodels.api as sm\n",
    "import statsmodels.formula.api as smf\n",
    "\n",
    "# Machine Learning - scikit-learn Preprocessing \n",
    "from sklearn.model_selection import train_test_split\n",
    "from sklearn.pipeline import Pipeline\n",
    "from sklearn.compose import ColumnTransformer\n",
    "from sklearn.preprocessing import OneHotEncoder\n",
    "from sklearn.linear_model import LogisticRegression\n",
    "from sklearn.tree import DecisionTreeClassifier\n",
    "from sklearn.ensemble import RandomForestClassifier\n",
    "from sklearn.neighbors import KNeighborsClassifier\n",
    "from sklearn.svm import SVC\n",
    "from sklearn.neural_network import MLPClassifier\n",
    "from sklearn.metrics import (\n",
    "    accuracy_score, classification_report, precision_score,\n",
    "    recall_score, f1_score, roc_auc_score, confusion_matrix\n",
    ")\n",
    "# Jupyter Notebook display settings\n",
    "from IPython.core.display import display, HTML\n",
    "\n",
    "# Other analytical tools\n",
    "from tableone import TableOne\n",
    "from scipy.cluster.hierarchy import linkage, dendrogram\n",
    "from scipy.spatial.distance import squareform\n",
    "\n",
    "# External data sources\n",
    "import requests\n",
    "from census import Census\n",
    "from us import states\n",
    "\n",
    "# Custom utilities\n",
    "import utils\n",
    "\n",
    "# Suppress warnings\n",
    "warnings.filterwarnings(\"ignore\")"
   ]
  },
  {
   "cell_type": "markdown",
   "id": "b6021479",
   "metadata": {},
   "source": [
    "#### 2.1 Import dataset"
   ]
  },
  {
   "cell_type": "code",
   "execution_count": 2,
   "id": "647c6722",
   "metadata": {},
   "outputs": [],
   "source": [
    "from ucimlrepo import fetch_ucirepo \n",
    "# fetch dataset \n",
    "differentiated_thyroid_cancer_recurrence = fetch_ucirepo(id=915) \n",
    "# data (as pandas dataframes) \n",
    "X = differentiated_thyroid_cancer_recurrence.data.features \n",
    "y = differentiated_thyroid_cancer_recurrence.data.targets \n",
    "  \n",
    "# metadata \n",
    "# print(differentiated_thyroid_cancer_recurrence.metadata) \n",
    "# variable information \n",
    "# print(differentiated_thyroid_cancer_recurrence.variables) \n",
    "# combine X and y into a single dataframe\n",
    "tcr_raw = pd.concat([X, y], axis=1)"
   ]
  },
  {
   "cell_type": "markdown",
   "id": "46b6b47b",
   "metadata": {},
   "source": [
    "### 3. Data Exploration"
   ]
  },
  {
   "cell_type": "markdown",
   "id": "f7b8f51d",
   "metadata": {},
   "source": [
    "#### 3.1 Overview of the data"
   ]
  },
  {
   "cell_type": "code",
   "execution_count": 3,
   "id": "a0f728b1",
   "metadata": {},
   "outputs": [
    {
     "data": {
      "application/vnd.microsoft.datawrangler.viewer.v0+json": {
       "columns": [
        {
         "name": "index",
         "rawType": "int64",
         "type": "integer"
        },
        {
         "name": "Age",
         "rawType": "int64",
         "type": "integer"
        },
        {
         "name": "Gender",
         "rawType": "object",
         "type": "string"
        },
        {
         "name": "Smoking",
         "rawType": "object",
         "type": "string"
        },
        {
         "name": "Hx Smoking",
         "rawType": "object",
         "type": "string"
        },
        {
         "name": "Hx Radiothreapy",
         "rawType": "object",
         "type": "string"
        },
        {
         "name": "Thyroid Function",
         "rawType": "object",
         "type": "string"
        },
        {
         "name": "Physical Examination",
         "rawType": "object",
         "type": "string"
        },
        {
         "name": "Adenopathy",
         "rawType": "object",
         "type": "string"
        },
        {
         "name": "Pathology",
         "rawType": "object",
         "type": "string"
        },
        {
         "name": "Focality",
         "rawType": "object",
         "type": "string"
        },
        {
         "name": "Risk",
         "rawType": "object",
         "type": "string"
        },
        {
         "name": "T",
         "rawType": "object",
         "type": "string"
        },
        {
         "name": "N",
         "rawType": "object",
         "type": "string"
        },
        {
         "name": "M",
         "rawType": "object",
         "type": "string"
        },
        {
         "name": "Stage",
         "rawType": "object",
         "type": "string"
        },
        {
         "name": "Response",
         "rawType": "object",
         "type": "string"
        },
        {
         "name": "Recurred",
         "rawType": "object",
         "type": "string"
        }
       ],
       "ref": "08555908-8962-4a46-9b40-eaf8a730eb8a",
       "rows": [
        [
         "0",
         "27",
         "F",
         "No",
         "No",
         "No",
         "Euthyroid",
         "Single nodular goiter-left",
         "No",
         "Micropapillary",
         "Uni-Focal",
         "Low",
         "T1a",
         "N0",
         "M0",
         "I",
         "Indeterminate",
         "No"
        ],
        [
         "1",
         "34",
         "F",
         "No",
         "Yes",
         "No",
         "Euthyroid",
         "Multinodular goiter",
         "No",
         "Micropapillary",
         "Uni-Focal",
         "Low",
         "T1a",
         "N0",
         "M0",
         "I",
         "Excellent",
         "No"
        ],
        [
         "2",
         "30",
         "F",
         "No",
         "No",
         "No",
         "Euthyroid",
         "Single nodular goiter-right",
         "No",
         "Micropapillary",
         "Uni-Focal",
         "Low",
         "T1a",
         "N0",
         "M0",
         "I",
         "Excellent",
         "No"
        ],
        [
         "3",
         "62",
         "F",
         "No",
         "No",
         "No",
         "Euthyroid",
         "Single nodular goiter-right",
         "No",
         "Micropapillary",
         "Uni-Focal",
         "Low",
         "T1a",
         "N0",
         "M0",
         "I",
         "Excellent",
         "No"
        ],
        [
         "4",
         "62",
         "F",
         "No",
         "No",
         "No",
         "Euthyroid",
         "Multinodular goiter",
         "No",
         "Micropapillary",
         "Multi-Focal",
         "Low",
         "T1a",
         "N0",
         "M0",
         "I",
         "Excellent",
         "No"
        ]
       ],
       "shape": {
        "columns": 17,
        "rows": 5
       }
      },
      "text/html": [
       "<div>\n",
       "<style scoped>\n",
       "    .dataframe tbody tr th:only-of-type {\n",
       "        vertical-align: middle;\n",
       "    }\n",
       "\n",
       "    .dataframe tbody tr th {\n",
       "        vertical-align: top;\n",
       "    }\n",
       "\n",
       "    .dataframe thead th {\n",
       "        text-align: right;\n",
       "    }\n",
       "</style>\n",
       "<table border=\"1\" class=\"dataframe\">\n",
       "  <thead>\n",
       "    <tr style=\"text-align: right;\">\n",
       "      <th></th>\n",
       "      <th>Age</th>\n",
       "      <th>Gender</th>\n",
       "      <th>Smoking</th>\n",
       "      <th>Hx Smoking</th>\n",
       "      <th>Hx Radiothreapy</th>\n",
       "      <th>Thyroid Function</th>\n",
       "      <th>Physical Examination</th>\n",
       "      <th>Adenopathy</th>\n",
       "      <th>Pathology</th>\n",
       "      <th>Focality</th>\n",
       "      <th>Risk</th>\n",
       "      <th>T</th>\n",
       "      <th>N</th>\n",
       "      <th>M</th>\n",
       "      <th>Stage</th>\n",
       "      <th>Response</th>\n",
       "      <th>Recurred</th>\n",
       "    </tr>\n",
       "  </thead>\n",
       "  <tbody>\n",
       "    <tr>\n",
       "      <th>0</th>\n",
       "      <td>27</td>\n",
       "      <td>F</td>\n",
       "      <td>No</td>\n",
       "      <td>No</td>\n",
       "      <td>No</td>\n",
       "      <td>Euthyroid</td>\n",
       "      <td>Single nodular goiter-left</td>\n",
       "      <td>No</td>\n",
       "      <td>Micropapillary</td>\n",
       "      <td>Uni-Focal</td>\n",
       "      <td>Low</td>\n",
       "      <td>T1a</td>\n",
       "      <td>N0</td>\n",
       "      <td>M0</td>\n",
       "      <td>I</td>\n",
       "      <td>Indeterminate</td>\n",
       "      <td>No</td>\n",
       "    </tr>\n",
       "    <tr>\n",
       "      <th>1</th>\n",
       "      <td>34</td>\n",
       "      <td>F</td>\n",
       "      <td>No</td>\n",
       "      <td>Yes</td>\n",
       "      <td>No</td>\n",
       "      <td>Euthyroid</td>\n",
       "      <td>Multinodular goiter</td>\n",
       "      <td>No</td>\n",
       "      <td>Micropapillary</td>\n",
       "      <td>Uni-Focal</td>\n",
       "      <td>Low</td>\n",
       "      <td>T1a</td>\n",
       "      <td>N0</td>\n",
       "      <td>M0</td>\n",
       "      <td>I</td>\n",
       "      <td>Excellent</td>\n",
       "      <td>No</td>\n",
       "    </tr>\n",
       "    <tr>\n",
       "      <th>2</th>\n",
       "      <td>30</td>\n",
       "      <td>F</td>\n",
       "      <td>No</td>\n",
       "      <td>No</td>\n",
       "      <td>No</td>\n",
       "      <td>Euthyroid</td>\n",
       "      <td>Single nodular goiter-right</td>\n",
       "      <td>No</td>\n",
       "      <td>Micropapillary</td>\n",
       "      <td>Uni-Focal</td>\n",
       "      <td>Low</td>\n",
       "      <td>T1a</td>\n",
       "      <td>N0</td>\n",
       "      <td>M0</td>\n",
       "      <td>I</td>\n",
       "      <td>Excellent</td>\n",
       "      <td>No</td>\n",
       "    </tr>\n",
       "    <tr>\n",
       "      <th>3</th>\n",
       "      <td>62</td>\n",
       "      <td>F</td>\n",
       "      <td>No</td>\n",
       "      <td>No</td>\n",
       "      <td>No</td>\n",
       "      <td>Euthyroid</td>\n",
       "      <td>Single nodular goiter-right</td>\n",
       "      <td>No</td>\n",
       "      <td>Micropapillary</td>\n",
       "      <td>Uni-Focal</td>\n",
       "      <td>Low</td>\n",
       "      <td>T1a</td>\n",
       "      <td>N0</td>\n",
       "      <td>M0</td>\n",
       "      <td>I</td>\n",
       "      <td>Excellent</td>\n",
       "      <td>No</td>\n",
       "    </tr>\n",
       "    <tr>\n",
       "      <th>4</th>\n",
       "      <td>62</td>\n",
       "      <td>F</td>\n",
       "      <td>No</td>\n",
       "      <td>No</td>\n",
       "      <td>No</td>\n",
       "      <td>Euthyroid</td>\n",
       "      <td>Multinodular goiter</td>\n",
       "      <td>No</td>\n",
       "      <td>Micropapillary</td>\n",
       "      <td>Multi-Focal</td>\n",
       "      <td>Low</td>\n",
       "      <td>T1a</td>\n",
       "      <td>N0</td>\n",
       "      <td>M0</td>\n",
       "      <td>I</td>\n",
       "      <td>Excellent</td>\n",
       "      <td>No</td>\n",
       "    </tr>\n",
       "  </tbody>\n",
       "</table>\n",
       "</div>"
      ],
      "text/plain": [
       "   Age Gender Smoking Hx Smoking Hx Radiothreapy Thyroid Function  \\\n",
       "0   27      F      No         No              No        Euthyroid   \n",
       "1   34      F      No        Yes              No        Euthyroid   \n",
       "2   30      F      No         No              No        Euthyroid   \n",
       "3   62      F      No         No              No        Euthyroid   \n",
       "4   62      F      No         No              No        Euthyroid   \n",
       "\n",
       "          Physical Examination Adenopathy       Pathology     Focality Risk  \\\n",
       "0   Single nodular goiter-left         No  Micropapillary    Uni-Focal  Low   \n",
       "1          Multinodular goiter         No  Micropapillary    Uni-Focal  Low   \n",
       "2  Single nodular goiter-right         No  Micropapillary    Uni-Focal  Low   \n",
       "3  Single nodular goiter-right         No  Micropapillary    Uni-Focal  Low   \n",
       "4          Multinodular goiter         No  Micropapillary  Multi-Focal  Low   \n",
       "\n",
       "     T   N   M Stage       Response Recurred  \n",
       "0  T1a  N0  M0     I  Indeterminate       No  \n",
       "1  T1a  N0  M0     I      Excellent       No  \n",
       "2  T1a  N0  M0     I      Excellent       No  \n",
       "3  T1a  N0  M0     I      Excellent       No  \n",
       "4  T1a  N0  M0     I      Excellent       No  "
      ]
     },
     "execution_count": 3,
     "metadata": {},
     "output_type": "execute_result"
    }
   ],
   "source": [
    "tcr_raw.head()"
   ]
  },
  {
   "cell_type": "code",
   "execution_count": 4,
   "id": "8a760f90",
   "metadata": {},
   "outputs": [
    {
     "name": "stdout",
     "output_type": "stream",
     "text": [
      "<class 'pandas.core.frame.DataFrame'>\n",
      "RangeIndex: 383 entries, 0 to 382\n",
      "Data columns (total 17 columns):\n",
      " #   Column                Non-Null Count  Dtype \n",
      "---  ------                --------------  ----- \n",
      " 0   Age                   383 non-null    int64 \n",
      " 1   Gender                383 non-null    object\n",
      " 2   Smoking               383 non-null    object\n",
      " 3   Hx Smoking            383 non-null    object\n",
      " 4   Hx Radiothreapy       383 non-null    object\n",
      " 5   Thyroid Function      383 non-null    object\n",
      " 6   Physical Examination  383 non-null    object\n",
      " 7   Adenopathy            383 non-null    object\n",
      " 8   Pathology             383 non-null    object\n",
      " 9   Focality              383 non-null    object\n",
      " 10  Risk                  383 non-null    object\n",
      " 11  T                     383 non-null    object\n",
      " 12  N                     383 non-null    object\n",
      " 13  M                     383 non-null    object\n",
      " 14  Stage                 383 non-null    object\n",
      " 15  Response              383 non-null    object\n",
      " 16  Recurred              383 non-null    object\n",
      "dtypes: int64(1), object(16)\n",
      "memory usage: 51.0+ KB\n",
      "None\n"
     ]
    }
   ],
   "source": [
    "print(tcr_raw.info())"
   ]
  },
  {
   "cell_type": "markdown",
   "id": "b465f0e5",
   "metadata": {},
   "source": [
    "<span style=\"font-size:14px\">\n",
    "We have 17 variables and 383 observations. We do not have any missing values\n"
   ]
  },
  {
   "cell_type": "markdown",
   "id": "2112a506",
   "metadata": {},
   "source": [
    "<span style=\"font-size:14px\">\n",
    "Variables description (confer Borzooei et al. European Archives of Oto-Rhino-Laryngology (2024) 281:2095–2104\n",
    "https://doi.org/10.1007/s00405-023-08299-w)\n",
    "\n",
    "\n",
    "Demographics & History\n",
    "\n",
    "- Age at diagnosis (in years)\n",
    "\n",
    "- Biological sex (Female, Male)\n",
    "\n",
    "- Current smoking status\n",
    "\n",
    "- Past smoking history\n",
    "\n",
    "- History of radiation therapy to head and neck region\n",
    "\n",
    "Thyroid Characteristics\n",
    "\n",
    "- Thyroid function\n",
    "       Categories: euthyroid, clinical/subclinical hypothyroidism or hyperthyroidism\n",
    "\n",
    "- Presence of goiter\n",
    "\n",
    "     Categories: diffuse, single nodular (left/right lobe), multinodular, normal\n",
    "\n",
    "Physical Exam Findings\n",
    "\n",
    "- Presence of adenopathy on physical exam\n",
    "\n",
    "   Categories: no adenopathy, anterior right, anterior left, bilateral, posterior, extensive (all locations)\n",
    "\n",
    "Cancer Pathology\n",
    "\n",
    "- Pathological subtype of cancer\n",
    "\n",
    "    Categories: papillary, micropapillary, follicular, Hürthle cell\n",
    "\n",
    "- Focality\n",
    "\n",
    "    Categories: unifocal, multifocal\n",
    "\n",
    "Staging & Risk\n",
    "\n",
    "- ATA risk assessment\n",
    "\n",
    "    Categories: low, intermediate, high\n",
    "\n",
    "- TNM staging\n",
    "\n",
    "Includes:\n",
    "\n",
    "T score (Tumor size/local invasion)\n",
    "\n",
    "N score (Lymph node involvement)\n",
    "\n",
    "M score (Distant metastasis)\n",
    "\n",
    "Final stage\n",
    "\n",
    "Treatment & Outcome\n",
    "\n",
    "- Initial treatment response\n",
    "\n",
    "    Categories: excellent, biochemical incomplete, structurally incomplete, indeterminate\n",
    "\n",
    "- Recurrence status\n",
    "\n",
    "    Includes: locoregional recurrence, distant metastasis"
   ]
  },
  {
   "cell_type": "markdown",
   "id": "673aa7af",
   "metadata": {},
   "source": [
    "### 3.2 Unvariate data exploration"
   ]
  },
  {
   "cell_type": "markdown",
   "id": "b4037a11",
   "metadata": {},
   "source": [
    "- continouous variables"
   ]
  },
  {
   "cell_type": "code",
   "execution_count": 5,
   "id": "6fb7b9b8",
   "metadata": {},
   "outputs": [
    {
     "data": {
      "image/png": "[encoded data removed]",
      "text/plain": [
       "<Figure size 700x600 with 1 Axes>"
      ]
     },
     "metadata": {},
     "output_type": "display_data"
    }
   ],
   "source": [
    "plt.figure(figsize=(7, 6))\n",
    "plt.hist(tcr_raw[\"Age\"], bins=30, color=\"#1b557c\", edgecolor=\"white\")\n",
    "plt.xlabel(\"Age\")\n",
    "plt.ylabel(\"Frequency\")\n",
    "plt.title(\"Histogram of Age\")\n",
    "ax = plt.gca()\n",
    "ax.spines[\"top\"].set_visible(False)\n",
    "ax.spines[\"right\"].set_visible(False)\n",
    "plt.show()\n"
   ]
  },
  {
   "cell_type": "code",
   "execution_count": 6,
   "id": "93378cbd",
   "metadata": {},
   "outputs": [
    {
     "data": {
      "application/vnd.microsoft.datawrangler.viewer.v0+json": {
       "columns": [
        {
         "name": "index",
         "rawType": "object",
         "type": "string"
        },
        {
         "name": "Age",
         "rawType": "float64",
         "type": "float"
        }
       ],
       "ref": "058ebc18-2823-4d32-972f-6101b080afcd",
       "rows": [
        [
         "count",
         "383.0"
        ],
        [
         "mean",
         "40.87"
        ],
        [
         "std",
         "15.13"
        ],
        [
         "min",
         "15.0"
        ],
        [
         "25%",
         "29.0"
        ],
        [
         "50%",
         "37.0"
        ],
        [
         "75%",
         "51.0"
        ],
        [
         "max",
         "82.0"
        ]
       ],
       "shape": {
        "columns": 1,
        "rows": 8
       }
      },
      "text/plain": [
       "count    383.00\n",
       "mean      40.87\n",
       "std       15.13\n",
       "min       15.00\n",
       "25%       29.00\n",
       "50%       37.00\n",
       "75%       51.00\n",
       "max       82.00\n",
       "Name: Age, dtype: float64"
      ]
     },
     "execution_count": 6,
     "metadata": {},
     "output_type": "execute_result"
    }
   ],
   "source": [
    "tcr_raw[\"Age\"].describe().round(2)"
   ]
  },
  {
   "cell_type": "markdown",
   "id": "fdc6af7a",
   "metadata": {},
   "source": [
    "Age ranges from 15 to 82 with a mean of 40.87 and a median of 37 (std=15.13, IQR=22)"
   ]
  },
  {
   "cell_type": "code",
   "execution_count": 7,
   "id": "1242f879",
   "metadata": {},
   "outputs": [
    {
     "name": "stdout",
     "output_type": "stream",
     "text": [
      "Skewness: 0.72\n",
      "Kurtosis: -0.28\n"
     ]
    }
   ],
   "source": [
    "from scipy.stats import skew, kurtosis\n",
    "\n",
    "skew_age = skew(tcr_raw[\"Age\"], nan_policy=\"omit\").round(2)\n",
    "kurt_age = kurtosis(tcr_raw[\"Age\"], nan_policy=\"omit\").round(2)\n",
    "\n",
    "print(\"Skewness:\", skew_age)\n",
    "print(\"Kurtosis:\", kurt_age)\n"
   ]
  },
  {
   "cell_type": "markdown",
   "id": "52cbc35f",
   "metadata": {},
   "source": [
    "Age variable is moderately right-skewed (younger cluster, fewer older outliers) and a bit flatter than normal."
   ]
  },
  {
   "cell_type": "markdown",
   "id": "b4cb1511",
   "metadata": {},
   "source": [
    "we will create a Age groups based on American Thyroid Association (ATA) risk stratification guidelines\n",
    "\n",
    "https://doi.org/10.1089/thy.2019.0688"
   ]
  },
  {
   "cell_type": "code",
   "execution_count": 8,
   "id": "40977355",
   "metadata": {},
   "outputs": [],
   "source": [
    "tcr_raw['Age category'] = pd.cut(tcr_raw['Age'], \n",
    "                                 bins=[0, 55, 100], # max age is 62\n",
    "                                 labels=['0-55', '55+'], \n",
    "                                 right=False)"
   ]
  },
  {
   "cell_type": "markdown",
   "id": "ab5978cb",
   "metadata": {},
   "source": [
    "- categorical variables"
   ]
  },
  {
   "cell_type": "markdown",
   "id": "03a6c6d3",
   "metadata": {},
   "source": [
    "We decide to create a new variable for smoking status that combines current smoking status and past smoking history."
   ]
  },
  {
   "cell_type": "code",
   "execution_count": 9,
   "id": "0bffec36",
   "metadata": {},
   "outputs": [
    {
     "data": {
      "image/png": "[encoded data removed]",
      "text/plain": [
       "<Figure size 1200x3600 with 17 Axes>"
      ]
     },
     "metadata": {},
     "output_type": "display_data"
    }
   ],
   "source": [
    "import matplotlib.pyplot as plt\n",
    "\n",
    "# List of categorical variables to plot\n",
    "cat_vars = [\n",
    "    'Recurred', 'Age category', 'Gender', 'Smoking', 'Hx Smoking', \n",
    "    'Hx Radiothreapy', 'Thyroid Function', 'Physical Examination',\n",
    "    'Adenopathy', 'Pathology', 'Focality', 'Risk', 'T', 'N', 'M',\n",
    "    'Stage', 'Response'\n",
    "]\n",
    "\n",
    "# Number of plots\n",
    "n_vars = len(cat_vars)\n",
    "\n",
    "# Create figure with 2 columns\n",
    "fig, axes = plt.subplots(nrows=(n_vars + 1) // 2, ncols=2, figsize=(12, 4 * ((n_vars + 1) // 2)))\n",
    "axes = axes.flatten()  # flatten for easy iteration\n",
    "\n",
    "# Plot each categorical variable\n",
    "for i, var in enumerate(cat_vars):\n",
    "    tcr_raw[var].value_counts().plot(\n",
    "        kind=\"bar\",\n",
    "        ax=axes[i],\n",
    "        color=\"#1b557c\",\n",
    "        edgecolor=\"white\"\n",
    "    )\n",
    "    axes[i].set_title(var)\n",
    "    axes[i].set_xlabel(\"\")\n",
    "    axes[i].set_ylabel(\"Count\")\n",
    "    axes[i].spines[\"top\"].set_visible(False)\n",
    "    axes[i].spines[\"right\"].set_visible(False)\n",
    "\n",
    "# Hide unused subplots if odd number of vars\n",
    "for j in range(i + 1, len(axes)):\n",
    "    fig.delaxes(axes[j])\n",
    "\n",
    "plt.tight_layout()\n",
    "plt.show()\n"
   ]
  },
  {
   "cell_type": "markdown",
   "id": "0322b151",
   "metadata": {},
   "source": [
    "<span style=\"font-size:14px\">\n",
    "We observed that the majority of individuals did not experience recurrence compared to those who did. The cohort was characterized by a higher proportion of participants younger than 55, more females, non-smokers and non-current smokers, individuals without a history of radiotherapy, those with normal thyroid function, no evidence of adenopathy, and overall a lower-risk profile"
   ]
  },
  {
   "cell_type": "markdown",
   "id": "5d878aa4",
   "metadata": {},
   "source": [
    "### 3.3 Assessing multicollinearity among predictors"
   ]
  },
  {
   "cell_type": "code",
   "execution_count": 35,
   "id": "0e64aab7",
   "metadata": {},
   "outputs": [],
   "source": [
    "mm = pd.get_dummies(tcr_raw.drop(['Age', 'Recurred'], axis=1), drop_first=True)\n",
    "corr_matrix = mm.corr()"
   ]
  },
  {
   "cell_type": "code",
   "execution_count": null,
   "id": "dcf9caf1",
   "metadata": {},
   "outputs": [
    {
     "data": {
      "application/vnd.plotly.v1+json": {
       "config": {
        "plotlyServerURL": "https://plot.ly"
       },
       "data": [
        {
         "coloraxis": "coloraxis",
         "hovertemplate": "x: %{x}<br>y: %{y}<br>color: %{z}<extra></extra>",
         "name": "0",
         "texttemplate": "%{z:.2f}",
         "type": "heatmap",
         "x": [
          "Gender_M",
          "Smoking_Yes",
          "Hx Smoking_Yes",
          "Hx Radiothreapy_Yes",
          "Thyroid Function_Clinical Hypothyroidism",
          "Thyroid Function_Euthyroid",
          "Thyroid Function_Subclinical Hyperthyroidism",
          "Thyroid Function_Subclinical Hypothyroidism",
          "Physical Examination_Multinodular goiter",
          "Physical Examination_Normal",
          "Physical Examination_Single nodular goiter-left",
          "Physical Examination_Single nodular goiter-right",
          "Adenopathy_Extensive",
          "Adenopathy_Left",
          "Adenopathy_No",
          "Adenopathy_Posterior",
          "Adenopathy_Right",
          "Pathology_Hurthel cell",
          "Pathology_Micropapillary",
          "Pathology_Papillary",
          "Focality_Uni-Focal",
          "Risk_Intermediate",
          "Risk_Low",
          "T_T1b",
          "T_T2",
          "T_T3a",
          "T_T3b",
          "T_T4a",
          "T_T4b",
          "N_N1a",
          "N_N1b",
          "M_M1",
          "Stage_II",
          "Stage_III",
          "Stage_IVA",
          "Stage_IVB",
          "Response_Excellent",
          "Response_Indeterminate",
          "Response_Structural Incomplete",
          "Age category_55+",
          "Smoking status_Yes",
          "Thyroid_01_non-euthyroid",
          "Physical_01_goiter",
          "Adenopathy_01_yes",
          "Response_01_not-excellent"
         ],
         "xaxis": "x",
         "y": [
          "Gender_M",
          "Smoking_Yes",
          "Hx Smoking_Yes",
          "Hx Radiothreapy_Yes",
          "Thyroid Function_Clinical Hypothyroidism",
          "Thyroid Function_Euthyroid",
          "Thyroid Function_Subclinical Hyperthyroidism",
          "Thyroid Function_Subclinical Hypothyroidism",
          "Physical Examination_Multinodular goiter",
          "Physical Examination_Normal",
          "Physical Examination_Single nodular goiter-left",
          "Physical Examination_Single nodular goiter-right",
          "Adenopathy_Extensive",
          "Adenopathy_Left",
          "Adenopathy_No",
          "Adenopathy_Posterior",
          "Adenopathy_Right",
          "Pathology_Hurthel cell",
          "Pathology_Micropapillary",
          "Pathology_Papillary",
          "Focality_Uni-Focal",
          "Risk_Intermediate",
          "Risk_Low",
          "T_T1b",
          "T_T2",
          "T_T3a",
          "T_T3b",
          "T_T4a",
          "T_T4b",
          "N_N1a",
          "N_N1b",
          "M_M1",
          "Stage_II",
          "Stage_III",
          "Stage_IVA",
          "Stage_IVB",
          "Response_Excellent",
          "Response_Indeterminate",
          "Response_Structural Incomplete",
          "Age category_55+",
          "Smoking status_Yes",
          "Thyroid_01_non-euthyroid",
          "Physical_01_goiter",
          "Adenopathy_01_yes",
          "Response_01_not-excellent"
         ],
         "yaxis": "y",
         "z": {
          "bdata": "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",
          "dtype": "f8",
          "shape": "45, 45"
         }
        }
       ],
       "layout": {
        "coloraxis": {
         "colorscale": [
          [
           0,
           "#ebf2f6"
          ],
          [
           0.5,
           "#aed6f1"
          ],
          [
           1,
           "#3498db"
          ]
         ]
        },
        "font": {
         "color": "#1b557c",
         "size": 8
        },
        "height": 900,
        "margin": {
         "t": 60
        },
        "paper_bgcolor": "white",
        "plot_bgcolor": "white",
        "template": {
         "data": {
          "bar": [
           {
            "error_x": {
             "color": "#2a3f5f"
            },
            "error_y": {
             "color": "#2a3f5f"
            },
            "marker": {
             "line": {
              "color": "#E5ECF6",
              "width": 0.5
             },
             "pattern": {
              "fillmode": "overlay",
              "size": 10,
              "solidity": 0.2
             }
            },
            "type": "bar"
           }
          ],
          "barpolar": [
           {
            "marker": {
             "line": {
              "color": "#E5ECF6",
              "width": 0.5
             },
             "pattern": {
              "fillmode": "overlay",
              "size": 10,
              "solidity": 0.2
             }
            },
            "type": "barpolar"
           }
          ],
          "carpet": [
           {
            "aaxis": {
             "endlinecolor": "#2a3f5f",
             "gridcolor": "white",
             "linecolor": "white",
             "minorgridcolor": "white",
             "startlinecolor": "#2a3f5f"
            },
            "baxis": {
             "endlinecolor": "#2a3f5f",
             "gridcolor": "white",
             "linecolor": "white",
             "minorgridcolor": "white",
             "startlinecolor": "#2a3f5f"
            },
            "type": "carpet"
           }
          ],
          "choropleth": [
           {
            "colorbar": {
             "outlinewidth": 0,
             "ticks": ""
            },
            "type": "choropleth"
           }
          ],
          "contour": [
           {
            "colorbar": {
             "outlinewidth": 0,
             "ticks": ""
            },
            "colorscale": [
             [
              0,
              "#0d0887"
             ],
             [
              0.1111111111111111,
              "#46039f"
             ],
             [
              0.2222222222222222,
              "#7201a8"
             ],
             [
              0.3333333333333333,
              "#9c179e"
             ],
             [
              0.4444444444444444,
              "#bd3786"
             ],
             [
              0.5555555555555556,
              "#d8576b"
             ],
             [
              0.6666666666666666,
              "#ed7953"
             ],
             [
              0.7777777777777778,
              "#fb9f3a"
             ],
             [
              0.8888888888888888,
              "#fdca26"
             ],
             [
              1,
              "#f0f921"
             ]
            ],
            "type": "contour"
           }
          ],
          "contourcarpet": [
           {
            "colorbar": {
             "outlinewidth": 0,
             "ticks": ""
            },
            "type": "contourcarpet"
           }
          ],
          "heatmap": [
           {
            "colorbar": {
             "outlinewidth": 0,
             "ticks": ""
            },
            "colorscale": [
             [
              0,
              "#0d0887"
             ],
             [
              0.1111111111111111,
              "#46039f"
             ],
             [
              0.2222222222222222,
              "#7201a8"
             ],
             [
              0.3333333333333333,
              "#9c179e"
             ],
             [
              0.4444444444444444,
              "#bd3786"
             ],
             [
              0.5555555555555556,
              "#d8576b"
             ],
             [
              0.6666666666666666,
              "#ed7953"
             ],
             [
              0.7777777777777778,
              "#fb9f3a"
             ],
             [
              0.8888888888888888,
              "#fdca26"
             ],
             [
              1,
              "#f0f921"
             ]
            ],
            "type": "heatmap"
           }
          ],
          "histogram": [
           {
            "marker": {
             "pattern": {
              "fillmode": "overlay",
              "size": 10,
              "solidity": 0.2
             }
            },
            "type": "histogram"
           }
          ],
          "histogram2d": [
           {
            "colorbar": {
             "outlinewidth": 0,
             "ticks": ""
            },
            "colorscale": [
             [
              0,
              "#0d0887"
             ],
             [
              0.1111111111111111,
              "#46039f"
             ],
             [
              0.2222222222222222,
              "#7201a8"
             ],
             [
              0.3333333333333333,
              "#9c179e"
             ],
             [
              0.4444444444444444,
              "#bd3786"
             ],
             [
              0.5555555555555556,
              "#d8576b"
             ],
             [
              0.6666666666666666,
              "#ed7953"
             ],
             [
              0.7777777777777778,
              "#fb9f3a"
             ],
             [
              0.8888888888888888,
              "#fdca26"
             ],
             [
              1,
              "#f0f921"
             ]
            ],
            "type": "histogram2d"
           }
          ],
          "histogram2dcontour": [
           {
            "colorbar": {
             "outlinewidth": 0,
             "ticks": ""
            },
            "colorscale": [
             [
              0,
              "#0d0887"
             ],
             [
              0.1111111111111111,
              "#46039f"
             ],
             [
              0.2222222222222222,
              "#7201a8"
             ],
             [
              0.3333333333333333,
              "#9c179e"
             ],
             [
              0.4444444444444444,
              "#bd3786"
             ],
             [
              0.5555555555555556,
              "#d8576b"
             ],
             [
              0.6666666666666666,
              "#ed7953"
             ],
             [
              0.7777777777777778,
              "#fb9f3a"
             ],
             [
              0.8888888888888888,
              "#fdca26"
             ],
             [
              1,
              "#f0f921"
             ]
            ],
            "type": "histogram2dcontour"
           }
          ],
          "mesh3d": [
           {
            "colorbar": {
             "outlinewidth": 0,
             "ticks": ""
            },
            "type": "mesh3d"
           }
          ],
          "parcoords": [
           {
            "line": {
             "colorbar": {
              "outlinewidth": 0,
              "ticks": ""
             }
            },
            "type": "parcoords"
           }
          ],
          "pie": [
           {
            "automargin": true,
            "type": "pie"
           }
          ],
          "scatter": [
           {
            "fillpattern": {
             "fillmode": "overlay",
             "size": 10,
             "solidity": 0.2
            },
            "type": "scatter"
           }
          ],
          "scatter3d": [
           {
            "line": {
             "colorbar": {
              "outlinewidth": 0,
              "ticks": ""
             }
            },
            "marker": {
             "colorbar": {
              "outlinewidth": 0,
              "ticks": ""
             }
            },
            "type": "scatter3d"
           }
          ],
          "scattercarpet": [
           {
            "marker": {
             "colorbar": {
              "outlinewidth": 0,
              "ticks": ""
             }
            },
            "type": "scattercarpet"
           }
          ],
          "scattergeo": [
           {
            "marker": {
             "colorbar": {
              "outlinewidth": 0,
              "ticks": ""
             }
            },
            "type": "scattergeo"
           }
          ],
          "scattergl": [
           {
            "marker": {
             "colorbar": {
              "outlinewidth": 0,
              "ticks": ""
             }
            },
            "type": "scattergl"
           }
          ],
          "scattermap": [
           {
            "marker": {
             "colorbar": {
              "outlinewidth": 0,
              "ticks": ""
             }
            },
            "type": "scattermap"
           }
          ],
          "scattermapbox": [
           {
            "marker": {
             "colorbar": {
              "outlinewidth": 0,
              "ticks": ""
             }
            },
            "type": "scattermapbox"
           }
          ],
          "scatterpolar": [
           {
            "marker": {
             "colorbar": {
              "outlinewidth": 0,
              "ticks": ""
             }
            },
            "type": "scatterpolar"
           }
          ],
          "scatterpolargl": [
           {
            "marker": {
             "colorbar": {
              "outlinewidth": 0,
              "ticks": ""
             }
            },
            "type": "scatterpolargl"
           }
          ],
          "scatterternary": [
           {
            "marker": {
             "colorbar": {
              "outlinewidth": 0,
              "ticks": ""
             }
            },
            "type": "scatterternary"
           }
          ],
          "surface": [
           {
            "colorbar": {
             "outlinewidth": 0,
             "ticks": ""
            },
            "colorscale": [
             [
              0,
              "#0d0887"
             ],
             [
              0.1111111111111111,
              "#46039f"
             ],
             [
              0.2222222222222222,
              "#7201a8"
             ],
             [
              0.3333333333333333,
              "#9c179e"
             ],
             [
              0.4444444444444444,
              "#bd3786"
             ],
             [
              0.5555555555555556,
              "#d8576b"
             ],
             [
              0.6666666666666666,
              "#ed7953"
             ],
             [
              0.7777777777777778,
              "#fb9f3a"
             ],
             [
              0.8888888888888888,
              "#fdca26"
             ],
             [
              1,
              "#f0f921"
             ]
            ],
            "type": "surface"
           }
          ],
          "table": [
           {
            "cells": {
             "fill": {
              "color": "#EBF0F8"
             },
             "line": {
              "color": "white"
             }
            },
            "header": {
             "fill": {
              "color": "#C8D4E3"
             },
             "line": {
              "color": "white"
             }
            },
            "type": "table"
           }
          ]
         },
         "layout": {
          "annotationdefaults": {
           "arrowcolor": "#2a3f5f",
           "arrowhead": 0,
           "arrowwidth": 1
          },
          "autotypenumbers": "strict",
          "coloraxis": {
           "colorbar": {
            "outlinewidth": 0,
            "ticks": ""
           }
          },
          "colorscale": {
           "diverging": [
            [
             0,
             "#8e0152"
            ],
            [
             0.1,
             "#c51b7d"
            ],
            [
             0.2,
             "#de77ae"
            ],
            [
             0.3,
             "#f1b6da"
            ],
            [
             0.4,
             "#fde0ef"
            ],
            [
             0.5,
             "#f7f7f7"
            ],
            [
             0.6,
             "#e6f5d0"
            ],
            [
             0.7,
             "#b8e186"
            ],
            [
             0.8,
             "#7fbc41"
            ],
            [
             0.9,
             "#4d9221"
            ],
            [
             1,
             "#276419"
            ]
           ],
           "sequential": [
            [
             0,
             "#0d0887"
            ],
            [
             0.1111111111111111,
             "#46039f"
            ],
            [
             0.2222222222222222,
             "#7201a8"
            ],
            [
             0.3333333333333333,
             "#9c179e"
            ],
            [
             0.4444444444444444,
             "#bd3786"
            ],
            [
             0.5555555555555556,
             "#d8576b"
            ],
            [
             0.6666666666666666,
             "#ed7953"
            ],
            [
             0.7777777777777778,
             "#fb9f3a"
            ],
            [
             0.8888888888888888,
             "#fdca26"
            ],
            [
             1,
             "#f0f921"
            ]
           ],
           "sequentialminus": [
            [
             0,
             "#0d0887"
            ],
            [
             0.1111111111111111,
             "#46039f"
            ],
            [
             0.2222222222222222,
             "#7201a8"
            ],
            [
             0.3333333333333333,
             "#9c179e"
            ],
            [
             0.4444444444444444,
             "#bd3786"
            ],
            [
             0.5555555555555556,
             "#d8576b"
            ],
            [
             0.6666666666666666,
             "#ed7953"
            ],
            [
             0.7777777777777778,
             "#fb9f3a"
            ],
            [
             0.8888888888888888,
             "#fdca26"
            ],
            [
             1,
             "#f0f921"
            ]
           ]
          },
          "colorway": [
           "#636efa",
           "#EF553B",
           "#00cc96",
           "#ab63fa",
           "#FFA15A",
           "#19d3f3",
           "#FF6692",
           "#B6E880",
           "#FF97FF",
           "#FECB52"
          ],
          "font": {
           "color": "#2a3f5f"
          },
          "geo": {
           "bgcolor": "white",
           "lakecolor": "white",
           "landcolor": "#E5ECF6",
           "showlakes": true,
           "showland": true,
           "subunitcolor": "white"
          },
          "hoverlabel": {
           "align": "left"
          },
          "hovermode": "closest",
          "mapbox": {
           "style": "light"
          },
          "paper_bgcolor": "white",
          "plot_bgcolor": "#E5ECF6",
          "polar": {
           "angularaxis": {
            "gridcolor": "white",
            "linecolor": "white",
            "ticks": ""
           },
           "bgcolor": "#E5ECF6",
           "radialaxis": {
            "gridcolor": "white",
            "linecolor": "white",
            "ticks": ""
           }
          },
          "scene": {
           "xaxis": {
            "backgroundcolor": "#E5ECF6",
            "gridcolor": "white",
            "gridwidth": 2,
            "linecolor": "white",
            "showbackground": true,
            "ticks": "",
            "zerolinecolor": "white"
           },
           "yaxis": {
            "backgroundcolor": "#E5ECF6",
            "gridcolor": "white",
            "gridwidth": 2,
            "linecolor": "white",
            "showbackground": true,
            "ticks": "",
            "zerolinecolor": "white"
           },
           "zaxis": {
            "backgroundcolor": "#E5ECF6",
            "gridcolor": "white",
            "gridwidth": 2,
            "linecolor": "white",
            "showbackground": true,
            "ticks": "",
            "zerolinecolor": "white"
           }
          },
          "shapedefaults": {
           "line": {
            "color": "#2a3f5f"
           }
          },
          "ternary": {
           "aaxis": {
            "gridcolor": "white",
            "linecolor": "white",
            "ticks": ""
           },
           "baxis": {
            "gridcolor": "white",
            "linecolor": "white",
            "ticks": ""
           },
           "bgcolor": "#E5ECF6",
           "caxis": {
            "gridcolor": "white",
            "linecolor": "white",
            "ticks": ""
           }
          },
          "title": {
           "x": 0.05
          },
          "xaxis": {
           "automargin": true,
           "gridcolor": "white",
           "linecolor": "white",
           "ticks": "",
           "title": {
            "standoff": 15
           },
           "zerolinecolor": "white",
           "zerolinewidth": 2
          },
          "yaxis": {
           "automargin": true,
           "gridcolor": "white",
           "linecolor": "white",
           "ticks": "",
           "title": {
            "standoff": 15
           },
           "zerolinecolor": "white",
           "zerolinewidth": 2
          }
         }
        },
        "title": {
         "text": "Correlation Heatmap"
        },
        "width": 1000,
        "xaxis": {
         "anchor": "y",
         "domain": [
          0,
          1
         ],
         "showgrid": true,
         "showticklabels": true,
         "tickangle": -45,
         "zeroline": false
        },
        "yaxis": {
         "anchor": "x",
         "autorange": "reversed",
         "domain": [
          0,
          1
         ],
         "showgrid": true,
         "showticklabels": true,
         "zeroline": false
        }
       }
      }
     },
     "metadata": {},
     "output_type": "display_data"
    }
   ],
   "source": [
    "mask = np.triu(np.ones_like(corr_matrix, dtype=bool))\n",
    "corr_masked = corr_matrix.mask(mask)\n",
    "\n",
    "fig = px.imshow(\n",
    "    corr_masked,\n",
    "    text_auto=\".2f\",  \n",
    "    color_continuous_scale=[\"#ebf2f6\", \"#aed6f1\", \"#3498db\"],\n",
    "    aspect=\"auto\"\n",
    ")\n",
    "\n",
    "fig.update_layout(\n",
    "    width=1000,\n",
    "    height=900,\n",
    "    font=dict(size=8, color=\"#1b557c\"),       \n",
    "    xaxis=dict(\n",
    "        tickangle=-45,\n",
    "        showticklabels=True,\n",
    "        showgrid=True,\n",
    "        zeroline=False\n",
    "    ),\n",
    "    yaxis=dict(\n",
    "        showticklabels=True,\n",
    "        showgrid=True,\n",
    "        zeroline=False\n",
    "    ),\n",
    "    title=\"Correlation Heatmap\",\n",
    "    plot_bgcolor='white',\n",
    "    paper_bgcolor='white'\n",
    ")\n",
    "\n",
    "fig.show()"
   ]
  },
  {
   "cell_type": "markdown",
   "id": "ecfb3faf",
   "metadata": {},
   "source": [
    "<span style=\"font-size:14px\">\n",
    "From this correlation matrix, we can see that there is strong correlation between for instance\n",
    "\n",
    "- low risk (ATA) and no adenopathy with a pearson correlation coefficient of 0.68\n",
    "- low risk (ATA) and response excellent with a pearson correlation coefficient of 0.60\n",
    "- Stage IVB and M1 with a pearson correlation coefficient of 0.70\n"
   ]
  },
  {
   "cell_type": "markdown",
   "id": "a9d986b4",
   "metadata": {},
   "source": [
    "<span style=\"font-size:14px\">\n",
    "In the code below, we create a code to identify in the  pairwise manner, the correlation among predictors of recurrence of thyroid cancer."
   ]
  },
  {
   "cell_type": "code",
   "execution_count": 38,
   "id": "a550e957",
   "metadata": {},
   "outputs": [
    {
     "name": "stdout",
     "output_type": "stream",
     "text": [
      "                          Feature 1                       Feature 2  \\\n",
      "245      Thyroid Function_Euthyroid        Thyroid_01_non-euthyroid   \n",
      "961              Response_Excellent       Response_01_not-excellent   \n",
      "553                   Adenopathy_No               Adenopathy_01_yes   \n",
      "392     Physical Examination_Normal              Physical_01_goiter   \n",
      "897                           N_N1b               Adenopathy_01_yes   \n",
      "540                   Adenopathy_No                           N_N1b   \n",
      "82                      Smoking_Yes              Smoking status_Yes   \n",
      "714               Risk_Intermediate                        Risk_Low   \n",
      "902                            M_M1                       Stage_IVB   \n",
      "532                   Adenopathy_No                        Risk_Low   \n",
      "757                        Risk_Low               Adenopathy_01_yes   \n",
      "744                        Risk_Low                           N_N1b   \n",
      "639        Pathology_Micropapillary             Pathology_Papillary   \n",
      "752                        Risk_Low  Response_Structural Incomplete   \n",
      "548                   Adenopathy_No  Response_Structural Incomplete   \n",
      "973  Response_Structural Incomplete               Adenopathy_01_yes   \n",
      "0                          Gender_M                     Smoking_Yes   \n",
      "124                  Hx Smoking_Yes              Smoking status_Yes   \n",
      "892                           N_N1b  Response_Structural Incomplete   \n",
      "610                Adenopathy_Right               Adenopathy_01_yes   \n",
      "526                   Adenopathy_No                Adenopathy_Right   \n",
      "955              Response_Excellent  Response_Structural Incomplete   \n",
      "974  Response_Structural Incomplete       Response_01_not-excellent   \n",
      "750                        Risk_Low              Response_Excellent   \n",
      "758                        Risk_Low       Response_01_not-excellent   \n",
      "\n",
      "     Correlation  \n",
      "245    -1.000000  \n",
      "961    -1.000000  \n",
      "553    -1.000000  \n",
      "392    -1.000000  \n",
      "897     0.860998  \n",
      "540    -0.860998  \n",
      "82      0.847192  \n",
      "714    -0.821286  \n",
      "902     0.700479  \n",
      "532     0.684184  \n",
      "757    -0.684184  \n",
      "744    -0.682578  \n",
      "639    -0.654491  \n",
      "752    -0.632358  \n",
      "548    -0.628200  \n",
      "973     0.628200  \n",
      "0       0.621886  \n",
      "124     0.621186  \n",
      "892     0.613815  \n",
      "610     0.611907  \n",
      "526    -0.611907  \n",
      "955    -0.608614  \n",
      "974     0.608614  \n",
      "750     0.601951  \n",
      "758    -0.601951  \n"
     ]
    }
   ],
   "source": [
    "\n",
    "mask = np.triu(np.ones_like(corr_matrix, dtype=bool), k=1)\n",
    "filtered = corr_matrix.where(mask)\n",
    "\n",
    "strong_corr = filtered.stack().reset_index()\n",
    "strong_corr.columns = ['Feature 1', 'Feature 2', 'Correlation']\n",
    "\n",
    "threshold = 0.6\n",
    "strong_corr = strong_corr[strong_corr['Correlation'].abs() > threshold]\n",
    "\n",
    "strong_corr = strong_corr.reindex(strong_corr['Correlation'].abs().sort_values(ascending=False).index)\n",
    "\n",
    "print(strong_corr)\n"
   ]
  },
  {
   "cell_type": "markdown",
   "id": "f969ab96",
   "metadata": {},
   "source": [
    "<span style=\"font-size:14px\">\n",
    "We identify the same correlated variables such as low risk and no adenopathy, metastasis and stage IVB etc. Therefore, it is the right time to discuss about cancer classification and what is conveyed by these variables.\n",
    "\n",
    "What is tumor staging?\n",
    "Tumor staging conveys information about the size of the tumor and the extend to which it has spread in the body. It is a clinical management tool, since a localized tumor could benefit from simple resection with an appropriate follow-up,whereas metastasized tumors would require not only surgery but also adjuvant therapies such as radiation or chemotherapy among others.\n",
    "Staging may differ between cancer types, but the TNM system is the most widely used. For thyroid cancer for instance, staging is based on the American Joint Committee on Cancer (AJCC) Tumor, Node, Metastasis (TNM) system.\n",
    "- T describes the size of the original (primary) tumor and whether it has invaded nearby tissue,\n",
    "- N describes nearby (regional) lymph nodes that are involved,\n",
    "- M describes distant metastasis (spread of cancer from one part of the body to another).\n",
    "So, basically, staging is some form of summarizing the information contained in T, N, and M scores, for clinical management purposes.\n",
    "Similarly, an adenopathy is just a lymph node involvement (N score). Therefore, it is expected that there is a correlation between adenopathy and N score. At the physical examination, the physician will assess the size of the tumor wich is part of the T score in the TNM system.\n",
    "\n",
    "We can already see that having the stage itself forfeits the need for T, N, M scores as well as adenopathy and physical examination.\n",
    "\n",
    "Similarly, the ATA risk stratification is a summary of several variables including the type, differentiation, local and regional invasion an distant metastis among other.\n",
    "\n",
    "From a machine learning perspective, algorithms vary in their sensitivity to multicollinearity. Linear and logistic regression are highly susceptible, as strong correlations among predictors can destabilize coefficient estimates and hinder interpretation. In contrast, tree-based methods such as decision trees and random forests are generally more resilient to multicollinearity. Nonetheless, even in these models, multicollinearity may still reduce the interpretability of results by obscuring the relative importance of individual features.\n",
    "\n",
    "We will run two different sets of models, one with all variables and another excluding the correlated variables mentioned above.\n",
    "\n",
    "At the modeling stage, we will not consider age as a continuous variable, and will also use smoking status (ever/never smoked) instead of current and past smoking history. We will use the the TNM scores instead of the aggregated stage variable and will not consider the physical examination findings, nor the adenopathy variable.\n",
    "Finally, we will use the ATA risk stratification cautiously, by evaluating our models with and without this variable.\n",
    "\n",
    "(minus Age, Smoking, Hx Smoking, Physical Exam Findings, Adenopathy, Stage)\n"
   ]
  },
  {
   "cell_type": "markdown",
   "id": "22f9195f",
   "metadata": {},
   "source": [
    "We decide to collapse some categories for the logistic regression analysis."
   ]
  },
  {
   "cell_type": "code",
   "execution_count": 39,
   "id": "39fb3019",
   "metadata": {},
   "outputs": [],
   "source": [
    "# Smoking status: Yes vs. No\n",
    "tcr_raw['Smoking status'] = tcr_raw.apply(\n",
    "    lambda row: \"Yes\" \n",
    "                if (row['Smoking'] == \"Yes\" or row['Hx Smoking'] == \"Yes\") \n",
    "                else \"No\",\n",
    "    axis=1\n",
    ")\n",
    "\n",
    "# Thyroid function: Euthyroid vs. Else\n",
    "tcr_raw['Thyroid_01'] = (\n",
    "    tcr_raw['Thyroid Function']\n",
    "    .astype(str).str.strip().str.lower()\n",
    "    .map(lambda x: 'euthyroid' if x == 'euthyroid' else 'non-euthyroid')\n",
    ")\n",
    "\n",
    "# Physical Examination: Normal vs. Else\n",
    "tcr_raw['Physical_01'] = (\n",
    "    tcr_raw['Physical Examination']\n",
    "    .astype(str).str.strip().str.lower()\n",
    "    .map(lambda x: 'Normal' if x == 'normal' else 'goiter')\n",
    "    )\n",
    "\n",
    "# Adenopathy: Yes vs. No\n",
    "tcr_raw['Adenopathy_01'] = (\n",
    "    tcr_raw['Adenopathy']\n",
    "    .astype(str).str.strip().str.lower()\n",
    "    .map(lambda x: 'No' if x == 'no' else 'yes')\n",
    "    )\n",
    "\n",
    "# Response: Excellent vs. Else\n",
    "tcr_raw['Response_01'] = (\n",
    "    tcr_raw['Response']\n",
    "    .astype(str).str.strip().str.lower()\n",
    "    .map(lambda x:  'excellent' if x == 'excellent' else 'not-excellent')\n",
    ")"
   ]
  },
  {
   "cell_type": "markdown",
   "id": "910d49aa",
   "metadata": {},
   "source": [
    "#### 3.4 Distribution of features by recurrence status"
   ]
  },
  {
   "cell_type": "code",
   "execution_count": 41,
   "id": "9ae08dab",
   "metadata": {},
   "outputs": [
    {
     "name": "stdout",
     "output_type": "stream",
     "text": [
      "                                                        Grouped by Recurred                                               \n",
      "                                                                    Missing      Overall           No          Yes P-Value\n",
      "n                                                                                    383          275          108        \n",
      "Age, mean (SD)                                                            0  40.9 (15.1)  38.4 (12.9)  47.1 (18.3)  <0.001\n",
      "Age category, n (%)         0-55                                              305 (79.6)   240 (87.3)    65 (60.2)  <0.001\n",
      "                            55+                                                78 (20.4)    35 (12.7)    43 (39.8)        \n",
      "Gender, n (%)               F                                                 312 (81.5)   246 (89.5)    66 (61.1)  <0.001\n",
      "                            M                                                  71 (18.5)    29 (10.5)    42 (38.9)        \n",
      "Smoking status, n (%)       No                                                318 (83.0)   247 (89.8)    71 (65.7)  <0.001\n",
      "                            Yes                                                65 (17.0)    28 (10.2)    37 (34.3)        \n",
      "Smoking, n (%)              No                                                334 (87.2)   259 (94.2)    75 (69.4)  <0.001\n",
      "                            Yes                                                49 (12.8)     16 (5.8)    33 (30.6)        \n",
      "Hx Smoking, n (%)           No                                                355 (92.7)   261 (94.9)    94 (87.0)   0.014\n",
      "                            Yes                                                 28 (7.3)     14 (5.1)    14 (13.0)        \n",
      "Thyroid Function, n (%)     Clinical Hyperthyroidism                            20 (5.2)     17 (6.2)      3 (2.8)   0.272\n",
      "                            Clinical Hypothyroidism                             12 (3.1)     10 (3.6)      2 (1.9)        \n",
      "                            Euthyroid                                         332 (86.7)   234 (85.1)    98 (90.7)        \n",
      "                            Subclinical Hyperthyroidism                          5 (1.3)      5 (1.8)      0 (0.0)        \n",
      "                            Subclinical Hypothyroidism                          14 (3.7)      9 (3.3)      5 (4.6)        \n",
      "Thyroid_01, n (%)           euthyroid                                         332 (86.7)   234 (85.1)    98 (90.7)   0.195\n",
      "                            non-euthyroid                                      51 (13.3)    41 (14.9)     10 (9.3)        \n",
      "Physical Examination, n (%) Diffuse goiter                                       7 (1.8)      7 (2.5)      0 (0.0)   0.011\n",
      "                            Multinodular goiter                               140 (36.6)    88 (32.0)    52 (48.1)        \n",
      "                            Normal                                               7 (1.8)      5 (1.8)      2 (1.9)        \n",
      "                            Single nodular goiter-left                         89 (23.2)    63 (22.9)    26 (24.1)        \n",
      "                            Single nodular goiter-right                       140 (36.6)   112 (40.7)    28 (25.9)        \n",
      "Physical_01, n (%)          Normal                                               7 (1.8)      5 (1.8)      2 (1.9)   1.000\n",
      "                            goiter                                            376 (98.2)   270 (98.2)   106 (98.1)        \n",
      "Adenopathy, n (%)           Bilateral                                           32 (8.4)      5 (1.8)    27 (25.0)  <0.001\n",
      "                            Extensive                                            7 (1.8)      0 (0.0)      7 (6.5)        \n",
      "                            Left                                                17 (4.4)      5 (1.8)    12 (11.1)        \n",
      "                            No                                                277 (72.3)   247 (89.8)    30 (27.8)        \n",
      "                            Posterior                                            2 (0.5)      0 (0.0)      2 (1.9)        \n",
      "                            Right                                              48 (12.5)     18 (6.5)    30 (27.8)        \n",
      "Adenopathy_01, n (%)        No                                                277 (72.3)   247 (89.8)    30 (27.8)  <0.001\n",
      "                            yes                                               106 (27.7)    28 (10.2)    78 (72.2)        \n",
      "Hx Radiothreapy, n (%)      No                                                376 (98.2)   274 (99.6)   102 (94.4)   0.002\n",
      "                            Yes                                                  7 (1.8)      1 (0.4)      6 (5.6)        \n",
      "Pathology, n (%)            Follicular                                          28 (7.3)     16 (5.8)    12 (11.1)  <0.001\n",
      "                            Hurthel cell                                        20 (5.2)     14 (5.1)      6 (5.6)        \n",
      "                            Micropapillary                                     48 (12.5)    48 (17.5)      0 (0.0)        \n",
      "                            Papillary                                         287 (74.9)   197 (71.6)    90 (83.3)        \n",
      "Focality, n (%)             Multi-Focal                                       136 (35.5)    66 (24.0)    70 (64.8)  <0.001\n",
      "                            Uni-Focal                                         247 (64.5)   209 (76.0)    38 (35.2)        \n",
      "Risk, n (%)                 High                                                32 (8.4)      0 (0.0)    32 (29.6)  <0.001\n",
      "                            Intermediate                                      102 (26.6)    38 (13.8)    64 (59.3)        \n",
      "                            Low                                               249 (65.0)   237 (86.2)    12 (11.1)        \n",
      "T, n (%)                    T1a                                                49 (12.8)    48 (17.5)      1 (0.9)  <0.001\n",
      "                            T1b                                                43 (11.2)    38 (13.8)      5 (4.6)        \n",
      "                            T2                                                151 (39.4)   131 (47.6)    20 (18.5)        \n",
      "                            T3a                                                96 (25.1)    55 (20.0)    41 (38.0)        \n",
      "                            T3b                                                 16 (4.2)      2 (0.7)    14 (13.0)        \n",
      "                            T4a                                                 20 (5.2)      1 (0.4)    19 (17.6)        \n",
      "                            T4b                                                  8 (2.1)      0 (0.0)      8 (7.4)        \n",
      "N, n (%)                    N0                                                268 (70.0)   241 (87.6)    27 (25.0)  <0.001\n",
      "                            N1a                                                 22 (5.7)     12 (4.4)     10 (9.3)        \n",
      "                            N1b                                                93 (24.3)     22 (8.0)    71 (65.7)        \n",
      "M, n (%)                    M0                                                365 (95.3)  275 (100.0)    90 (83.3)  <0.001\n",
      "                            M1                                                  18 (4.7)      0 (0.0)    18 (16.7)        \n",
      "Stage, n (%)                I                                                 333 (86.9)   268 (97.5)    65 (60.2)  <0.001\n",
      "                            II                                                  32 (8.4)      7 (2.5)    25 (23.1)        \n",
      "                            III                                                  4 (1.0)      0 (0.0)      4 (3.7)        \n",
      "                            IVA                                                  3 (0.8)      0 (0.0)      3 (2.8)        \n",
      "                            IVB                                                 11 (2.9)      0 (0.0)    11 (10.2)        \n",
      "Response, n (%)             Biochemical Incomplete                              23 (6.0)     12 (4.4)    11 (10.2)  <0.001\n",
      "                            Excellent                                         208 (54.3)   207 (75.3)      1 (0.9)        \n",
      "                            Indeterminate                                      61 (15.9)    54 (19.6)      7 (6.5)        \n",
      "                            Structural Incomplete                              91 (23.8)      2 (0.7)    89 (82.4)        \n",
      "Response_01, n (%)          excellent                                         208 (54.3)   207 (75.3)      1 (0.9)  <0.001\n",
      "                            not-excellent                                     175 (45.7)    68 (24.7)   107 (99.1)        \n",
      "\n"
     ]
    }
   ],
   "source": [
    "columns = ['Age', 'Age category', 'Gender', 'Smoking status',\n",
    "           'Smoking', 'Hx Smoking', 'Thyroid Function','Thyroid_01', \n",
    "           'Physical Examination', 'Physical_01', 'Adenopathy', 'Adenopathy_01',        \n",
    "           'Hx Radiothreapy', 'Pathology', 'Focality', \n",
    "           'Risk', 'T', 'N', 'M', 'Stage', 'Response', 'Response_01']\n",
    "\n",
    "categorical = ['Age category', 'Gender', 'Smoking status',\n",
    "           'Smoking', 'Hx Smoking', 'Thyroid Function','Thyroid_01', \n",
    "           'Physical Examination', 'Physical_01', 'Adenopathy', 'Adenopathy_01',        \n",
    "           'Hx Radiothreapy', 'Pathology', 'Focality', \n",
    "           'Risk', 'T', 'N', 'M', 'Stage', 'Response', 'Response_01']\n",
    "table1 = TableOne(data=tcr_raw, columns=columns, categorical=categorical,\n",
    "                  groupby='Recurred', pval=True)\n",
    "print(table1) "
   ]
  },
  {
   "cell_type": "markdown",
   "id": "613cb23d",
   "metadata": {},
   "source": [
    "<span style=font-size:14px>\n",
    "As expected, compared to individuals without recurrence, those with recurrence were more likely to be older (39.8% aged over 55 years versus 12.7%), to have a current or past history of smoking (34.3% versus 10.2%), and to present with more advanced cancer stages (stage II or higher). Nearly all individuals with recurrence had a non-excellent response to initial treatment (99.1% versus 24.7%)."
   ]
  },
  {
   "cell_type": "markdown",
   "id": "1622aba6",
   "metadata": {},
   "source": [
    "### 4. Modeling"
   ]
  },
  {
   "cell_type": "markdown",
   "id": "2b16cfda",
   "metadata": {},
   "source": [
    "### 4.1 Problem statement"
   ]
  },
  {
   "cell_type": "markdown",
   "id": "2a5ef774",
   "metadata": {},
   "source": [
    "<span style=font-size:14px>\n",
    "In traditional statistical research, we would explore the relationship between one or more predictors and a response variable, sometimes from a causal perspective. This implies formulating a research question and proceeding with the hypothesis testing. In this particular project, we could hypothesize that:\n",
    "\n",
    "- Null hypothesis: patients who had recurrence of thyroid cancer do not differ from those who did not have recurrence with respect to the predictors in the dataset.\n",
    "- Alternative hypothesis: patients who had recurrence of thyroid cancer differ from those who did not have recurrence with respect to the predictors in the dataset.\n",
    "\n",
    "Note that we would use the whole dataset and produce parameter estimates and p-values. We will evaluate how good our model fits the data at hand, and identify the signigicance of the association between each predictor and the outcome of interest, recurrence in this case. For instance, we may find that people who smoke or had a history of smoking, have higher odds of recurrence compared to people who never smoked. However, we with, this approach we would not be able to make predictions on new data.\n",
    "\n",
    "In machine learning however, we are more interested in making predictions on new data. Similarly, we need to define the problem, with in this case, is a classification problem. We need to assess how well a model, givent the set of predictors, can predict recurrence in a new patient. This requires us to split the data into a training set and a test set. The training set will be used to train the model, and the test set will be used to evaluate the model's performance on unseen data. We will use various classification algorithms to build models that can predict recurrence based on the predictors in the dataset. We will evaluate the models using metrics such as accuracy, precision, recall, F1-score, and ROC-AUC.\n",
    "\n",
    "We first run a logistic regression model from a statistical perspective, then we will proceed with the machine learning approach."
   ]
  },
  {
   "cell_type": "markdown",
   "id": "01de7bbb",
   "metadata": {},
   "source": [
    "### 4.1 Statistical logistic regression"
   ]
  },
  {
   "cell_type": "markdown",
   "id": "02b29223",
   "metadata": {},
   "source": [
    "<span style=font-size:14px>\n",
    "As mentioned earlier, we exclude some variables from the model to avoid multicollinearity. We will consider smoking status (ever/never smoked), as our exposure of insterest, and hypothesize that people who ever smoked have higher odds of recurrence compared to people who never smoked, adjusting for other predictors. \n",
    "\n",
    "We will run several models with different sets of predictors. As shown in Table 1, several predictors exhibit sparse or highly imbalanced categories that create quasi-complete or perfect separation, such as Response (with “Excellent” almost always non-recurrent and “Structural Incomplete” almost always recurrent), advanced T stages (T4b exclusively recurrent, T4a and T3b heavily skewed), and M stage (M1 always recurrent), all of which can lead to convergence issues in logistic regression. The observation is true for Stage where all stages higher or equal to stage III recurred. We will therefore exclude these variables from our models."
   ]
  },
  {
   "cell_type": "code",
   "execution_count": null,
   "id": "7e9dfb4f",
   "metadata": {},
   "outputs": [],
   "source": [
    "# Formatting for logistic regression\n",
    "tcr_log0 = tcr_raw.copy()\n",
    "tcr_log0['Recurred_01'] = (\n",
    "    tcr_log0['Recurred']\n",
    "    .astype(str).str.strip().str.lower()\n",
    "    .map({'yes': 1, 'no': 0})\n",
    ")\n",
    "\n",
    "tcr_log1 = tcr_log0.rename(columns={\n",
    "    \"Age category\": \"Age_category\",\n",
    "    \"Smoking status\": \"Smoking_status\",\n",
    "    \"Hx Radiothreapy\": \"Hx_Radiotherapy\",\n",
    "    \"Physical Examination\": \"Physical_Examination\"  \n",
    "})\n",
    "\n",
    "tcr_log = tcr_log1.drop(columns=['Age', 'Smoking', 'Hx Smoking', 'Thyroid Function', 'Response', \n",
    "                                 'Response_01', 'T', 'N', 'M', 'Stage', 'Adenopathy', 'Physical_Examination','Recurred'])"
   ]
  },
  {
   "cell_type": "markdown",
   "id": "67e61121",
   "metadata": {},
   "source": [
    "<span style=font-size:14px>\n",
    "\n",
    "- Model 1: recurrence as a function of smoking status, controlled for age category, gender, thyroid function , physical examination, and adenopathy.\n",
    "  "
   ]
  },
  {
   "cell_type": "code",
   "execution_count": 84,
   "id": "53870ad5",
   "metadata": {},
   "outputs": [
    {
     "name": "stdout",
     "output_type": "stream",
     "text": [
      "Optimization terminated successfully.\n",
      "         Current function value: 0.333272\n",
      "         Iterations 7\n"
     ]
    },
    {
     "data": {
      "text/html": [
       "<table class=\"simpletable\">\n",
       "<caption>Logit Regression Results</caption>\n",
       "<tr>\n",
       "  <th>Dep. Variable:</th>      <td>Recurred_01</td>   <th>  No. Observations:  </th>  <td>   383</td>  \n",
       "</tr>\n",
       "<tr>\n",
       "  <th>Model:</th>                 <td>Logit</td>      <th>  Df Residuals:      </th>  <td>   376</td>  \n",
       "</tr>\n",
       "<tr>\n",
       "  <th>Method:</th>                 <td>MLE</td>       <th>  Df Model:          </th>  <td>     6</td>  \n",
       "</tr>\n",
       "<tr>\n",
       "  <th>Date:</th>            <td>Wed, 10 Sep 2025</td> <th>  Pseudo R-squ.:     </th>  <td>0.4397</td>  \n",
       "</tr>\n",
       "<tr>\n",
       "  <th>Time:</th>                <td>14:16:35</td>     <th>  Log-Likelihood:    </th> <td> -127.64</td> \n",
       "</tr>\n",
       "<tr>\n",
       "  <th>converged:</th>             <td>True</td>       <th>  LL-Null:           </th> <td> -227.82</td> \n",
       "</tr>\n",
       "<tr>\n",
       "  <th>Covariance Type:</th>     <td>nonrobust</td>    <th>  LLR p-value:       </th> <td>1.603e-40</td>\n",
       "</tr>\n",
       "</table>\n",
       "<table class=\"simpletable\">\n",
       "<tr>\n",
       "                 <td></td>                   <th>coef</th>     <th>std err</th>      <th>z</th>      <th>P>|z|</th>  <th>[0.025</th>    <th>0.975]</th>  \n",
       "</tr>\n",
       "<tr>\n",
       "  <th>Intercept</th>                      <td>   -2.9683</td> <td>    1.046</td> <td>   -2.838</td> <td> 0.005</td> <td>   -5.019</td> <td>   -0.918</td>\n",
       "</tr>\n",
       "<tr>\n",
       "  <th>C(Smoking_status)[T.Yes]</th>       <td>    0.4575</td> <td>    0.469</td> <td>    0.976</td> <td> 0.329</td> <td>   -0.461</td> <td>    1.376</td>\n",
       "</tr>\n",
       "<tr>\n",
       "  <th>C(Age_category)[T.55+]</th>         <td>    2.1764</td> <td>    0.395</td> <td>    5.504</td> <td> 0.000</td> <td>    1.401</td> <td>    2.951</td>\n",
       "</tr>\n",
       "<tr>\n",
       "  <th>C(Gender)[T.M]</th>                 <td>    1.2879</td> <td>    0.445</td> <td>    2.893</td> <td> 0.004</td> <td>    0.415</td> <td>    2.160</td>\n",
       "</tr>\n",
       "<tr>\n",
       "  <th>C(Thyroid_01)[T.non-euthyroid]</th> <td>   -1.0598</td> <td>    0.539</td> <td>   -1.967</td> <td> 0.049</td> <td>   -2.116</td> <td>   -0.004</td>\n",
       "</tr>\n",
       "<tr>\n",
       "  <th>C(Physical_01)[T.goiter]</th>       <td>   -0.0811</td> <td>    1.022</td> <td>   -0.079</td> <td> 0.937</td> <td>   -2.083</td> <td>    1.921</td>\n",
       "</tr>\n",
       "<tr>\n",
       "  <th>C(Adenopathy_01)[T.yes]</th>        <td>    3.4484</td> <td>    0.363</td> <td>    9.511</td> <td> 0.000</td> <td>    2.738</td> <td>    4.159</td>\n",
       "</tr>\n",
       "</table>"
      ],
      "text/latex": [
       "\\begin{center}\n",
       "\\begin{tabular}{lclc}\n",
       "\\toprule\n",
       "\\textbf{Dep. Variable:}                  &   Recurred\\_01   & \\textbf{  No. Observations:  } &      383    \\\\\n",
       "\\textbf{Model:}                          &      Logit       & \\textbf{  Df Residuals:      } &      376    \\\\\n",
       "\\textbf{Method:}                         &       MLE        & \\textbf{  Df Model:          } &        6    \\\\\n",
       "\\textbf{Date:}                           & Wed, 10 Sep 2025 & \\textbf{  Pseudo R-squ.:     } &   0.4397    \\\\\n",
       "\\textbf{Time:}                           &     14:16:35     & \\textbf{  Log-Likelihood:    } &   -127.64   \\\\\n",
       "\\textbf{converged:}                      &       True       & \\textbf{  LL-Null:           } &   -227.82   \\\\\n",
       "\\textbf{Covariance Type:}                &    nonrobust     & \\textbf{  LLR p-value:       } & 1.603e-40   \\\\\n",
       "\\bottomrule\n",
       "\\end{tabular}\n",
       "\\begin{tabular}{lcccccc}\n",
       "                                         & \\textbf{coef} & \\textbf{std err} & \\textbf{z} & \\textbf{P$> |$z$|$} & \\textbf{[0.025} & \\textbf{0.975]}  \\\\\n",
       "\\midrule\n",
       "\\textbf{Intercept}                       &      -2.9683  &        1.046     &    -2.838  &         0.005        &       -5.019    &       -0.918     \\\\\n",
       "\\textbf{C(Smoking\\_status)[T.Yes]}       &       0.4575  &        0.469     &     0.976  &         0.329        &       -0.461    &        1.376     \\\\\n",
       "\\textbf{C(Age\\_category)[T.55+]}         &       2.1764  &        0.395     &     5.504  &         0.000        &        1.401    &        2.951     \\\\\n",
       "\\textbf{C(Gender)[T.M]}                  &       1.2879  &        0.445     &     2.893  &         0.004        &        0.415    &        2.160     \\\\\n",
       "\\textbf{C(Thyroid\\_01)[T.non-euthyroid]} &      -1.0598  &        0.539     &    -1.967  &         0.049        &       -2.116    &       -0.004     \\\\\n",
       "\\textbf{C(Physical\\_01)[T.goiter]}       &      -0.0811  &        1.022     &    -0.079  &         0.937        &       -2.083    &        1.921     \\\\\n",
       "\\textbf{C(Adenopathy\\_01)[T.yes]}        &       3.4484  &        0.363     &     9.511  &         0.000        &        2.738    &        4.159     \\\\\n",
       "\\bottomrule\n",
       "\\end{tabular}\n",
       "%\\caption{Logit Regression Results}\n",
       "\\end{center}"
      ],
      "text/plain": [
       "<class 'statsmodels.iolib.summary.Summary'>\n",
       "\"\"\"\n",
       "                           Logit Regression Results                           \n",
       "==============================================================================\n",
       "Dep. Variable:            Recurred_01   No. Observations:                  383\n",
       "Model:                          Logit   Df Residuals:                      376\n",
       "Method:                           MLE   Df Model:                            6\n",
       "Date:                Wed, 10 Sep 2025   Pseudo R-squ.:                  0.4397\n",
       "Time:                        14:16:35   Log-Likelihood:                -127.64\n",
       "converged:                       True   LL-Null:                       -227.82\n",
       "Covariance Type:            nonrobust   LLR p-value:                 1.603e-40\n",
       "==================================================================================================\n",
       "                                     coef    std err          z      P>|z|      [0.025      0.975]\n",
       "--------------------------------------------------------------------------------------------------\n",
       "Intercept                         -2.9683      1.046     -2.838      0.005      -5.019      -0.918\n",
       "C(Smoking_status)[T.Yes]           0.4575      0.469      0.976      0.329      -0.461       1.376\n",
       "C(Age_category)[T.55+]             2.1764      0.395      5.504      0.000       1.401       2.951\n",
       "C(Gender)[T.M]                     1.2879      0.445      2.893      0.004       0.415       2.160\n",
       "C(Thyroid_01)[T.non-euthyroid]    -1.0598      0.539     -1.967      0.049      -2.116      -0.004\n",
       "C(Physical_01)[T.goiter]          -0.0811      1.022     -0.079      0.937      -2.083       1.921\n",
       "C(Adenopathy_01)[T.yes]            3.4484      0.363      9.511      0.000       2.738       4.159\n",
       "==================================================================================================\n",
       "\"\"\""
      ]
     },
     "execution_count": 84,
     "metadata": {},
     "output_type": "execute_result"
    }
   ],
   "source": [
    "formula1 = (\n",
    "    \"Recurred_01 ~ C(Smoking_status) + C(Age_category) + C(Gender) + \" \n",
    "    \"C(Thyroid_01) + C(Physical_01) + C(Adenopathy_01)\"     \n",
    ")\n",
    "\n",
    "log_model1 = smf.logit(formula=formula1, data=tcr_log).fit()\n",
    "log_model1.summary()"
   ]
  },
  {
   "cell_type": "markdown",
   "id": "f32f8e08",
   "metadata": {},
   "source": [
    "<span style=font-size:14px>\n",
    "Model fit:\n",
    "\n",
    "- Pseudo R-squared (McFadden’s R²) = 0.4397 → The predictors account for a ~44% improvement in model fit over an intercept-only model, based on McFadden’s pseudo R².\n",
    "\n",
    "- Log-Likelihood (LL) = -127.64 vs LL-Null = -227.82 → The fitted model improves the log-likelihood considerably over a null model (intercept-only).\n",
    "\n",
    "- Likelihood Ratio (LR) test p-value = 1.6 × 10⁻⁴⁰ → Extremely significant, confirming that the model as a whole fits the data much better than a null model."
   ]
  },
  {
   "cell_type": "code",
   "execution_count": 85,
   "id": "1d7f55ec",
   "metadata": {},
   "outputs": [
    {
     "name": "stdout",
     "output_type": "stream",
     "text": [
      "                                  2.5%   97.5%      OR  p-value\n",
      "Intercept                        0.007   0.399   0.051    0.005\n",
      "C(Smoking_status)[T.Yes]         0.630   3.961   1.580    0.329\n",
      "C(Age_category)[T.55+]           4.061  19.132   8.814    0.000\n",
      "C(Gender)[T.M]                   1.515   8.674   3.625    0.004\n",
      "C(Thyroid_01)[T.non-euthyroid]   0.121   0.996   0.347    0.049\n",
      "C(Physical_01)[T.goiter]         0.125   6.829   0.922    0.937\n",
      "C(Adenopathy_01)[T.yes]         15.452  64.009  31.449    0.000\n"
     ]
    }
   ],
   "source": [
    "params = log_model1.params\n",
    "conf = log_model1.conf_int()\n",
    "\n",
    "conf['OR'] = params\n",
    "conf.columns = ['2.5%', '97.5%', 'OR']\n",
    "\n",
    "conf['p-value'] = log_model1.pvalues\n",
    "\n",
    "results = conf.copy()\n",
    "results[['2.5%', '97.5%', 'OR']] = np.exp(results[['2.5%', '97.5%', 'OR']])\n",
    "\n",
    "print(results.round(3))\n"
   ]
  },
  {
   "cell_type": "markdown",
   "id": "1ef5392b",
   "metadata": {},
   "source": [
    "<span style=\"font-size:14px\">\n",
    "\n",
    "In this adjusted model, having a positive smoking history (ever smoked) was not associated with higher odds of thyroid cancer recurrence compared to never smokers (p = 0.329), after adjusting for other factors. This finding is consistent with the current literature, which has not established smoking as a significant risk factor for thyroid cancer or its recurrence[^1]. To the contrary, some studies have reported an inverse relationship between smoking and thyroid cancer, although such conclusions should be interpreted with caution[^2].  \n",
    "\n",
    "We also noted separation issues with some variables, such as adenopathy and, to a lesser extent, age category. Therefore, adenopathy will not be included in subsequent models.  \n",
    "\n",
    "[^1]: Jiang H, Li Yi, Shen J, et al. *Cigarette smoking and thyroid cancer risk: A Mendelian randomization study*. Cancer Med. 2023;12:19866–19873. doi:10.1002/cam4.6570  \n",
    "[^2]: Lee JH, Chai YJ, Yi KH. *Effect of cigarette smoking on thyroid cancer: Meta-analysis*. Endocrinol Metab (Seoul). 2021 Jun;36(3):590–598. doi:10.3803/EnM.2021.954. PMID: 34034364; PMCID: PMC8258339.  \n",
    "</span>\n"
   ]
  },
  {
   "cell_type": "markdown",
   "id": "aa71941c",
   "metadata": {},
   "source": [
    "<span style=font-size:14px>\n",
    "\n",
    "- Model 2: recurrence as a function of smoking status, controlled for age category, gender, thyroid function , physical examination, and history of radiotherapy.\n"
   ]
  },
  {
   "cell_type": "code",
   "execution_count": 99,
   "id": "936cca3a",
   "metadata": {},
   "outputs": [
    {
     "name": "stdout",
     "output_type": "stream",
     "text": [
      "Optimization terminated successfully.\n",
      "         Current function value: 0.331113\n",
      "         Iterations 7\n"
     ]
    },
    {
     "data": {
      "text/html": [
       "<table class=\"simpletable\">\n",
       "<caption>Logit Regression Results</caption>\n",
       "<tr>\n",
       "  <th>Dep. Variable:</th>      <td>Recurred_01</td>   <th>  No. Observations:  </th>  <td>   383</td>  \n",
       "</tr>\n",
       "<tr>\n",
       "  <th>Model:</th>                 <td>Logit</td>      <th>  Df Residuals:      </th>  <td>   375</td>  \n",
       "</tr>\n",
       "<tr>\n",
       "  <th>Method:</th>                 <td>MLE</td>       <th>  Df Model:          </th>  <td>     7</td>  \n",
       "</tr>\n",
       "<tr>\n",
       "  <th>Date:</th>            <td>Wed, 10 Sep 2025</td> <th>  Pseudo R-squ.:     </th>  <td>0.4433</td>  \n",
       "</tr>\n",
       "<tr>\n",
       "  <th>Time:</th>                <td>14:29:25</td>     <th>  Log-Likelihood:    </th> <td> -126.82</td> \n",
       "</tr>\n",
       "<tr>\n",
       "  <th>converged:</th>             <td>True</td>       <th>  LL-Null:           </th> <td> -227.82</td> \n",
       "</tr>\n",
       "<tr>\n",
       "  <th>Covariance Type:</th>     <td>nonrobust</td>    <th>  LLR p-value:       </th> <td>4.333e-40</td>\n",
       "</tr>\n",
       "</table>\n",
       "<table class=\"simpletable\">\n",
       "<tr>\n",
       "                 <td></td>                   <th>coef</th>     <th>std err</th>      <th>z</th>      <th>P>|z|</th>  <th>[0.025</th>    <th>0.975]</th>  \n",
       "</tr>\n",
       "<tr>\n",
       "  <th>Intercept</th>                      <td>   -2.9440</td> <td>    1.052</td> <td>   -2.799</td> <td> 0.005</td> <td>   -5.005</td> <td>   -0.883</td>\n",
       "</tr>\n",
       "<tr>\n",
       "  <th>C(Smoking_status)[T.Yes]</th>       <td>    0.3235</td> <td>    0.481</td> <td>    0.672</td> <td> 0.501</td> <td>   -0.620</td> <td>    1.267</td>\n",
       "</tr>\n",
       "<tr>\n",
       "  <th>C(Age_category)[T.55+]</th>         <td>    2.1462</td> <td>    0.397</td> <td>    5.401</td> <td> 0.000</td> <td>    1.367</td> <td>    2.925</td>\n",
       "</tr>\n",
       "<tr>\n",
       "  <th>C(Gender)[T.M]</th>                 <td>    1.2679</td> <td>    0.447</td> <td>    2.839</td> <td> 0.005</td> <td>    0.392</td> <td>    2.143</td>\n",
       "</tr>\n",
       "<tr>\n",
       "  <th>C(Thyroid_01)[T.non-euthyroid]</th> <td>   -1.1413</td> <td>    0.556</td> <td>   -2.051</td> <td> 0.040</td> <td>   -2.232</td> <td>   -0.051</td>\n",
       "</tr>\n",
       "<tr>\n",
       "  <th>C(Physical_01)[T.goiter]</th>       <td>   -0.0914</td> <td>    1.028</td> <td>   -0.089</td> <td> 0.929</td> <td>   -2.105</td> <td>    1.923</td>\n",
       "</tr>\n",
       "<tr>\n",
       "  <th>C(Adenopathy_01)[T.yes]</th>        <td>    3.4588</td> <td>    0.363</td> <td>    9.532</td> <td> 0.000</td> <td>    2.748</td> <td>    4.170</td>\n",
       "</tr>\n",
       "<tr>\n",
       "  <th>C(Hx_Radiotherapy)[T.Yes]</th>      <td>    1.8596</td> <td>    1.530</td> <td>    1.216</td> <td> 0.224</td> <td>   -1.139</td> <td>    4.858</td>\n",
       "</tr>\n",
       "</table>"
      ],
      "text/latex": [
       "\\begin{center}\n",
       "\\begin{tabular}{lclc}\n",
       "\\toprule\n",
       "\\textbf{Dep. Variable:}                  &   Recurred\\_01   & \\textbf{  No. Observations:  } &      383    \\\\\n",
       "\\textbf{Model:}                          &      Logit       & \\textbf{  Df Residuals:      } &      375    \\\\\n",
       "\\textbf{Method:}                         &       MLE        & \\textbf{  Df Model:          } &        7    \\\\\n",
       "\\textbf{Date:}                           & Wed, 10 Sep 2025 & \\textbf{  Pseudo R-squ.:     } &   0.4433    \\\\\n",
       "\\textbf{Time:}                           &     14:29:25     & \\textbf{  Log-Likelihood:    } &   -126.82   \\\\\n",
       "\\textbf{converged:}                      &       True       & \\textbf{  LL-Null:           } &   -227.82   \\\\\n",
       "\\textbf{Covariance Type:}                &    nonrobust     & \\textbf{  LLR p-value:       } & 4.333e-40   \\\\\n",
       "\\bottomrule\n",
       "\\end{tabular}\n",
       "\\begin{tabular}{lcccccc}\n",
       "                                         & \\textbf{coef} & \\textbf{std err} & \\textbf{z} & \\textbf{P$> |$z$|$} & \\textbf{[0.025} & \\textbf{0.975]}  \\\\\n",
       "\\midrule\n",
       "\\textbf{Intercept}                       &      -2.9440  &        1.052     &    -2.799  &         0.005        &       -5.005    &       -0.883     \\\\\n",
       "\\textbf{C(Smoking\\_status)[T.Yes]}       &       0.3235  &        0.481     &     0.672  &         0.501        &       -0.620    &        1.267     \\\\\n",
       "\\textbf{C(Age\\_category)[T.55+]}         &       2.1462  &        0.397     &     5.401  &         0.000        &        1.367    &        2.925     \\\\\n",
       "\\textbf{C(Gender)[T.M]}                  &       1.2679  &        0.447     &     2.839  &         0.005        &        0.392    &        2.143     \\\\\n",
       "\\textbf{C(Thyroid\\_01)[T.non-euthyroid]} &      -1.1413  &        0.556     &    -2.051  &         0.040        &       -2.232    &       -0.051     \\\\\n",
       "\\textbf{C(Physical\\_01)[T.goiter]}       &      -0.0914  &        1.028     &    -0.089  &         0.929        &       -2.105    &        1.923     \\\\\n",
       "\\textbf{C(Adenopathy\\_01)[T.yes]}        &       3.4588  &        0.363     &     9.532  &         0.000        &        2.748    &        4.170     \\\\\n",
       "\\textbf{C(Hx\\_Radiotherapy)[T.Yes]}      &       1.8596  &        1.530     &     1.216  &         0.224        &       -1.139    &        4.858     \\\\\n",
       "\\bottomrule\n",
       "\\end{tabular}\n",
       "%\\caption{Logit Regression Results}\n",
       "\\end{center}"
      ],
      "text/plain": [
       "<class 'statsmodels.iolib.summary.Summary'>\n",
       "\"\"\"\n",
       "                           Logit Regression Results                           \n",
       "==============================================================================\n",
       "Dep. Variable:            Recurred_01   No. Observations:                  383\n",
       "Model:                          Logit   Df Residuals:                      375\n",
       "Method:                           MLE   Df Model:                            7\n",
       "Date:                Wed, 10 Sep 2025   Pseudo R-squ.:                  0.4433\n",
       "Time:                        14:29:25   Log-Likelihood:                -126.82\n",
       "converged:                       True   LL-Null:                       -227.82\n",
       "Covariance Type:            nonrobust   LLR p-value:                 4.333e-40\n",
       "==================================================================================================\n",
       "                                     coef    std err          z      P>|z|      [0.025      0.975]\n",
       "--------------------------------------------------------------------------------------------------\n",
       "Intercept                         -2.9440      1.052     -2.799      0.005      -5.005      -0.883\n",
       "C(Smoking_status)[T.Yes]           0.3235      0.481      0.672      0.501      -0.620       1.267\n",
       "C(Age_category)[T.55+]             2.1462      0.397      5.401      0.000       1.367       2.925\n",
       "C(Gender)[T.M]                     1.2679      0.447      2.839      0.005       0.392       2.143\n",
       "C(Thyroid_01)[T.non-euthyroid]    -1.1413      0.556     -2.051      0.040      -2.232      -0.051\n",
       "C(Physical_01)[T.goiter]          -0.0914      1.028     -0.089      0.929      -2.105       1.923\n",
       "C(Adenopathy_01)[T.yes]            3.4588      0.363      9.532      0.000       2.748       4.170\n",
       "C(Hx_Radiotherapy)[T.Yes]          1.8596      1.530      1.216      0.224      -1.139       4.858\n",
       "==================================================================================================\n",
       "\"\"\""
      ]
     },
     "execution_count": 99,
     "metadata": {},
     "output_type": "execute_result"
    }
   ],
   "source": [
    "formula2 = (\n",
    "    \"Recurred_01 ~ C(Smoking_status) + C(Age_category) + C(Gender) + \" \n",
    "    \"C(Thyroid_01) + C(Physical_01) + C(Adenopathy_01) + C(Hx_Radiotherapy)\"   \n",
    ")\n",
    "\n",
    "log_model2 = smf.logit(formula=formula2, data=tcr_log).fit()\n",
    "log_model2.summary()"
   ]
  },
  {
   "cell_type": "markdown",
   "id": "d5c31463",
   "metadata": {},
   "source": [
    "<span style=font-size:14px>\n",
    "Model fit:\n",
    "adding focality did not improve the model fit compared to model 1 (with 0.4433 and LLR of -126.82)."
   ]
  },
  {
   "cell_type": "code",
   "execution_count": 91,
   "id": "8ea43b22",
   "metadata": {},
   "outputs": [
    {
     "name": "stdout",
     "output_type": "stream",
     "text": [
      "                                  2.5%    97.5%      OR  p-value\n",
      "Intercept                        0.007    0.414   0.053    0.005\n",
      "C(Smoking_status)[T.Yes]         0.538    3.549   1.382    0.501\n",
      "C(Age_category)[T.55+]           3.925   18.635   8.552    0.000\n",
      "C(Gender)[T.M]                   1.481    8.528   3.553    0.005\n",
      "C(Thyroid_01)[T.non-euthyroid]   0.107    0.951   0.319    0.040\n",
      "C(Physical_01)[T.goiter]         0.122    6.838   0.913    0.929\n",
      "C(Adenopathy_01)[T.yes]         15.605   64.720  31.780    0.000\n",
      "C(Hx_Radiotherapy)[T.Yes]        0.320  128.772   6.421    0.224\n"
     ]
    }
   ],
   "source": [
    "params = log_model2.params\n",
    "conf = log_model2.conf_int()\n",
    "conf['OR'] = params\n",
    "conf.columns = ['2.5%', '97.5%', 'OR']\n",
    "\n",
    "conf['p-value'] = log_model2.pvalues\n",
    "\n",
    "results = conf.copy()\n",
    "results[['2.5%', '97.5%', 'OR']] = np.exp(results[['2.5%', '97.5%', 'OR']])\n",
    "\n",
    "print(results.round(3))"
   ]
  },
  {
   "cell_type": "markdown",
   "id": "d68a3800",
   "metadata": {},
   "source": [
    "<span style=\"font-size:14px\">\n",
    "\n",
    "We still don't find a significant association between ever smoking and thyroid cancer recurrence, adjusting for the other selected predictors. "
   ]
  },
  {
   "cell_type": "markdown",
   "id": "8f922ce6",
   "metadata": {},
   "source": [
    "<span style=font-size:14px>\n",
    "\n",
    "- Model 3: recurrence as a function of smoking status, controlled for age category, gender, thyroid function , physical examination, history of radiotherapy, focality and pathology."
   ]
  },
  {
   "cell_type": "code",
   "execution_count": 98,
   "id": "d8161373",
   "metadata": {},
   "outputs": [
    {
     "name": "stdout",
     "output_type": "stream",
     "text": [
      "Optimization terminated successfully.\n",
      "         Current function value: 0.299998\n",
      "         Iterations 31\n"
     ]
    },
    {
     "data": {
      "text/html": [
       "<table class=\"simpletable\">\n",
       "<caption>Logit Regression Results</caption>\n",
       "<tr>\n",
       "  <th>Dep. Variable:</th>      <td>Recurred_01</td>   <th>  No. Observations:  </th>  <td>   383</td>  \n",
       "</tr>\n",
       "<tr>\n",
       "  <th>Model:</th>                 <td>Logit</td>      <th>  Df Residuals:      </th>  <td>   371</td>  \n",
       "</tr>\n",
       "<tr>\n",
       "  <th>Method:</th>                 <td>MLE</td>       <th>  Df Model:          </th>  <td>    11</td>  \n",
       "</tr>\n",
       "<tr>\n",
       "  <th>Date:</th>            <td>Wed, 10 Sep 2025</td> <th>  Pseudo R-squ.:     </th>  <td>0.4956</td>  \n",
       "</tr>\n",
       "<tr>\n",
       "  <th>Time:</th>                <td>14:28:31</td>     <th>  Log-Likelihood:    </th> <td> -114.90</td> \n",
       "</tr>\n",
       "<tr>\n",
       "  <th>converged:</th>             <td>True</td>       <th>  LL-Null:           </th> <td> -227.82</td> \n",
       "</tr>\n",
       "<tr>\n",
       "  <th>Covariance Type:</th>     <td>nonrobust</td>    <th>  LLR p-value:       </th> <td>3.142e-42</td>\n",
       "</tr>\n",
       "</table>\n",
       "<table class=\"simpletable\">\n",
       "<tr>\n",
       "                 <td></td>                   <th>coef</th>     <th>std err</th>      <th>z</th>      <th>P>|z|</th>  <th>[0.025</th>    <th>0.975]</th>  \n",
       "</tr>\n",
       "<tr>\n",
       "  <th>Intercept</th>                      <td>   -1.0079</td> <td>    1.195</td> <td>   -0.843</td> <td> 0.399</td> <td>   -3.350</td> <td>    1.335</td>\n",
       "</tr>\n",
       "<tr>\n",
       "  <th>C(Smoking_status)[T.Yes]</th>       <td>    0.0850</td> <td>    0.557</td> <td>    0.153</td> <td> 0.879</td> <td>   -1.006</td> <td>    1.176</td>\n",
       "</tr>\n",
       "<tr>\n",
       "  <th>C(Age_category)[T.55+]</th>         <td>    2.0306</td> <td>    0.434</td> <td>    4.679</td> <td> 0.000</td> <td>    1.180</td> <td>    2.881</td>\n",
       "</tr>\n",
       "<tr>\n",
       "  <th>C(Gender)[T.M]</th>                 <td>    1.3459</td> <td>    0.477</td> <td>    2.822</td> <td> 0.005</td> <td>    0.411</td> <td>    2.281</td>\n",
       "</tr>\n",
       "<tr>\n",
       "  <th>C(Thyroid_01)[T.non-euthyroid]</th> <td>   -1.2482</td> <td>    0.591</td> <td>   -2.112</td> <td> 0.035</td> <td>   -2.407</td> <td>   -0.090</td>\n",
       "</tr>\n",
       "<tr>\n",
       "  <th>C(Physical_01)[T.goiter]</th>       <td>    0.0496</td> <td>    1.081</td> <td>    0.046</td> <td> 0.963</td> <td>   -2.068</td> <td>    2.167</td>\n",
       "</tr>\n",
       "<tr>\n",
       "  <th>C(Adenopathy_01)[T.yes]</th>        <td>    3.2516</td> <td>    0.395</td> <td>    8.233</td> <td> 0.000</td> <td>    2.478</td> <td>    4.026</td>\n",
       "</tr>\n",
       "<tr>\n",
       "  <th>C(Hx_Radiotherapy)[T.Yes]</th>      <td>    1.3583</td> <td>    1.998</td> <td>    0.680</td> <td> 0.497</td> <td>   -2.557</td> <td>    5.273</td>\n",
       "</tr>\n",
       "<tr>\n",
       "  <th>C(Focality)[T.Uni-Focal]</th>       <td>   -0.8487</td> <td>    0.350</td> <td>   -2.422</td> <td> 0.015</td> <td>   -1.535</td> <td>   -0.162</td>\n",
       "</tr>\n",
       "<tr>\n",
       "  <th>C(Pathology)[T.Hurthel cell]</th>   <td>   -2.0827</td> <td>    0.841</td> <td>   -2.475</td> <td> 0.013</td> <td>   -3.732</td> <td>   -0.434</td>\n",
       "</tr>\n",
       "<tr>\n",
       "  <th>C(Pathology)[T.Micropapillary]</th> <td>  -46.4113</td> <td> 2.55e+09</td> <td>-1.82e-08</td> <td> 1.000</td> <td>-4.99e+09</td> <td> 4.99e+09</td>\n",
       "</tr>\n",
       "<tr>\n",
       "  <th>C(Pathology)[T.Papillary]</th>      <td>   -1.3979</td> <td>    0.573</td> <td>   -2.441</td> <td> 0.015</td> <td>   -2.520</td> <td>   -0.275</td>\n",
       "</tr>\n",
       "</table><br/><br/>Possibly complete quasi-separation: A fraction 0.13 of observations can be<br/>perfectly predicted. This might indicate that there is complete<br/>quasi-separation. In this case some parameters will not be identified."
      ],
      "text/latex": [
       "\\begin{center}\n",
       "\\begin{tabular}{lclc}\n",
       "\\toprule\n",
       "\\textbf{Dep. Variable:}                  &   Recurred\\_01   & \\textbf{  No. Observations:  } &      383    \\\\\n",
       "\\textbf{Model:}                          &      Logit       & \\textbf{  Df Residuals:      } &      371    \\\\\n",
       "\\textbf{Method:}                         &       MLE        & \\textbf{  Df Model:          } &       11    \\\\\n",
       "\\textbf{Date:}                           & Wed, 10 Sep 2025 & \\textbf{  Pseudo R-squ.:     } &   0.4956    \\\\\n",
       "\\textbf{Time:}                           &     14:28:31     & \\textbf{  Log-Likelihood:    } &   -114.90   \\\\\n",
       "\\textbf{converged:}                      &       True       & \\textbf{  LL-Null:           } &   -227.82   \\\\\n",
       "\\textbf{Covariance Type:}                &    nonrobust     & \\textbf{  LLR p-value:       } & 3.142e-42   \\\\\n",
       "\\bottomrule\n",
       "\\end{tabular}\n",
       "\\begin{tabular}{lcccccc}\n",
       "                                         & \\textbf{coef} & \\textbf{std err} & \\textbf{z} & \\textbf{P$> |$z$|$} & \\textbf{[0.025} & \\textbf{0.975]}  \\\\\n",
       "\\midrule\n",
       "\\textbf{Intercept}                       &      -1.0079  &        1.195     &    -0.843  &         0.399        &       -3.350    &        1.335     \\\\\n",
       "\\textbf{C(Smoking\\_status)[T.Yes]}       &       0.0850  &        0.557     &     0.153  &         0.879        &       -1.006    &        1.176     \\\\\n",
       "\\textbf{C(Age\\_category)[T.55+]}         &       2.0306  &        0.434     &     4.679  &         0.000        &        1.180    &        2.881     \\\\\n",
       "\\textbf{C(Gender)[T.M]}                  &       1.3459  &        0.477     &     2.822  &         0.005        &        0.411    &        2.281     \\\\\n",
       "\\textbf{C(Thyroid\\_01)[T.non-euthyroid]} &      -1.2482  &        0.591     &    -2.112  &         0.035        &       -2.407    &       -0.090     \\\\\n",
       "\\textbf{C(Physical\\_01)[T.goiter]}       &       0.0496  &        1.081     &     0.046  &         0.963        &       -2.068    &        2.167     \\\\\n",
       "\\textbf{C(Adenopathy\\_01)[T.yes]}        &       3.2516  &        0.395     &     8.233  &         0.000        &        2.478    &        4.026     \\\\\n",
       "\\textbf{C(Hx\\_Radiotherapy)[T.Yes]}      &       1.3583  &        1.998     &     0.680  &         0.497        &       -2.557    &        5.273     \\\\\n",
       "\\textbf{C(Focality)[T.Uni-Focal]}        &      -0.8487  &        0.350     &    -2.422  &         0.015        &       -1.535    &       -0.162     \\\\\n",
       "\\textbf{C(Pathology)[T.Hurthel cell]}    &      -2.0827  &        0.841     &    -2.475  &         0.013        &       -3.732    &       -0.434     \\\\\n",
       "\\textbf{C(Pathology)[T.Micropapillary]}  &     -46.4113  &     2.55e+09     & -1.82e-08  &         1.000        &    -4.99e+09    &     4.99e+09     \\\\\n",
       "\\textbf{C(Pathology)[T.Papillary]}       &      -1.3979  &        0.573     &    -2.441  &         0.015        &       -2.520    &       -0.275     \\\\\n",
       "\\bottomrule\n",
       "\\end{tabular}\n",
       "%\\caption{Logit Regression Results}\n",
       "\\end{center}\n",
       "\n",
       "Possibly complete quasi-separation: A fraction 0.13 of observations can be \\newline\n",
       " perfectly predicted. This might indicate that there is complete \\newline\n",
       " quasi-separation. In this case some parameters will not be identified."
      ],
      "text/plain": [
       "<class 'statsmodels.iolib.summary.Summary'>\n",
       "\"\"\"\n",
       "                           Logit Regression Results                           \n",
       "==============================================================================\n",
       "Dep. Variable:            Recurred_01   No. Observations:                  383\n",
       "Model:                          Logit   Df Residuals:                      371\n",
       "Method:                           MLE   Df Model:                           11\n",
       "Date:                Wed, 10 Sep 2025   Pseudo R-squ.:                  0.4956\n",
       "Time:                        14:28:31   Log-Likelihood:                -114.90\n",
       "converged:                       True   LL-Null:                       -227.82\n",
       "Covariance Type:            nonrobust   LLR p-value:                 3.142e-42\n",
       "==================================================================================================\n",
       "                                     coef    std err          z      P>|z|      [0.025      0.975]\n",
       "--------------------------------------------------------------------------------------------------\n",
       "Intercept                         -1.0079      1.195     -0.843      0.399      -3.350       1.335\n",
       "C(Smoking_status)[T.Yes]           0.0850      0.557      0.153      0.879      -1.006       1.176\n",
       "C(Age_category)[T.55+]             2.0306      0.434      4.679      0.000       1.180       2.881\n",
       "C(Gender)[T.M]                     1.3459      0.477      2.822      0.005       0.411       2.281\n",
       "C(Thyroid_01)[T.non-euthyroid]    -1.2482      0.591     -2.112      0.035      -2.407      -0.090\n",
       "C(Physical_01)[T.goiter]           0.0496      1.081      0.046      0.963      -2.068       2.167\n",
       "C(Adenopathy_01)[T.yes]            3.2516      0.395      8.233      0.000       2.478       4.026\n",
       "C(Hx_Radiotherapy)[T.Yes]          1.3583      1.998      0.680      0.497      -2.557       5.273\n",
       "C(Focality)[T.Uni-Focal]          -0.8487      0.350     -2.422      0.015      -1.535      -0.162\n",
       "C(Pathology)[T.Hurthel cell]      -2.0827      0.841     -2.475      0.013      -3.732      -0.434\n",
       "C(Pathology)[T.Micropapillary]   -46.4113   2.55e+09  -1.82e-08      1.000   -4.99e+09    4.99e+09\n",
       "C(Pathology)[T.Papillary]         -1.3979      0.573     -2.441      0.015      -2.520      -0.275\n",
       "==================================================================================================\n",
       "\n",
       "Possibly complete quasi-separation: A fraction 0.13 of observations can be\n",
       "perfectly predicted. This might indicate that there is complete\n",
       "quasi-separation. In this case some parameters will not be identified.\n",
       "\"\"\""
      ]
     },
     "execution_count": 98,
     "metadata": {},
     "output_type": "execute_result"
    }
   ],
   "source": [
    "formula3 = (\n",
    "    \"Recurred_01 ~ C(Smoking_status) + C(Age_category) + C(Gender) + \" \n",
    "    \"C(Thyroid_01) + C(Physical_01) + C(Adenopathy_01) + C(Hx_Radiotherapy) + C(Focality) + \" \n",
    "    \"C(Pathology)\"   \n",
    ")\n",
    "\n",
    "log_model3 = smf.logit(formula=formula3, data=tcr_log).fit()\n",
    "log_model3.summary()"
   ]
  },
  {
   "cell_type": "code",
   "execution_count": 95,
   "id": "b507f31f",
   "metadata": {},
   "outputs": [
    {
     "name": "stdout",
     "output_type": "stream",
     "text": [
      "                                  2.5%    97.5%      OR  p-value\n",
      "Intercept                        0.035    3.798   0.365    0.399\n",
      "C(Smoking_status)[T.Yes]         0.366    3.243   1.089    0.879\n",
      "C(Age_category)[T.55+]           3.254   17.836   7.618    0.000\n",
      "C(Gender)[T.M]                   1.508    9.783   3.841    0.005\n",
      "C(Thyroid_01)[T.non-euthyroid]   0.090    0.914   0.287    0.035\n",
      "C(Physical_01)[T.goiter]         0.126    8.736   1.051    0.963\n",
      "C(Adenopathy_01)[T.yes]         11.912   56.020  25.833    0.000\n",
      "C(Hx_Radiotherapy)[T.Yes]        0.078  195.077   3.890    0.497\n",
      "C(Focality)[T.Uni-Focal]         0.215    0.850   0.428    0.015\n",
      "C(Pathology)[T.Hurthel cell]     0.024    0.648   0.125    0.013\n",
      "C(Pathology)[T.Micropapillary]   0.000      inf   0.000    1.000\n",
      "C(Pathology)[T.Papillary]        0.080    0.759   0.247    0.015\n"
     ]
    }
   ],
   "source": [
    "params = log_model3.params\n",
    "conf = log_model3.conf_int()\n",
    "conf['OR'] = params\n",
    "conf.columns = ['2.5%', '97.5%', 'OR']\n",
    "\n",
    "conf['p-value'] = log_model3.pvalues\n",
    "\n",
    "results = conf.copy()\n",
    "results[['2.5%', '97.5%', 'OR']] = np.exp(results[['2.5%', '97.5%', 'OR']])\n",
    "\n",
    "print(results.round(3))"
   ]
  },
  {
   "cell_type": "markdown",
   "id": "ce559d61",
   "metadata": {},
   "source": [
    "<span style=font-size:14px>\n",
    "Still no significant association between ever smoking and thyroid cancer recurrence, adjusting for the other selected predictors."
   ]
  },
  {
   "cell_type": "code",
   "execution_count": 100,
   "id": "bc9699d4",
   "metadata": {},
   "outputs": [
    {
     "name": "stdout",
     "output_type": "stream",
     "text": [
      "     Model  Predictors  Log-Likelihood  Pseudo R² (McFadden)      AIC      BIC\n",
      "0  Model 1           6        -127.643                 0.440  269.286  296.922\n",
      "1  Model 2           7        -126.816                 0.443  269.633  301.217\n",
      "2  Model 3          11        -114.899                 0.496  253.798  301.175\n"
     ]
    }
   ],
   "source": [
    "models = {\n",
    "    \"Model 1\": log_model1,\n",
    "    \"Model 2\": log_model2,\n",
    "    \"Model 3\": log_model3\n",
    "}\n",
    "\n",
    "summary_data = []\n",
    "\n",
    "for name, model in models.items():\n",
    "    # number of predictors = Df Model\n",
    "    df_model = int(model.df_model)\n",
    "    # number of estimated parameters (predictors + intercept)\n",
    "    k = int(df_model + 1)\n",
    "    # log-likelihood\n",
    "    ll = model.llf\n",
    "    # pseudo R²\n",
    "    pseudo_r2 = model.prsquared\n",
    "    # AIC and BIC (available directly)\n",
    "    aic = model.aic\n",
    "    bic = model.bic\n",
    "    \n",
    "    summary_data.append([name, df_model, ll, pseudo_r2, aic, bic])\n",
    "\n",
    "# Create DataFrame\n",
    "summary_table = pd.DataFrame(summary_data, \n",
    "                             columns=[\"Model\", \"Predictors\", \"Log-Likelihood\", \n",
    "                                      \"Pseudo R² (McFadden)\", \"AIC\", \"BIC\"])\n",
    "\n",
    "print(summary_table.round(3))\n"
   ]
  },
  {
   "cell_type": "markdown",
   "id": "eaf26ed1",
   "metadata": {},
   "source": [
    "<span style=font-size:14px>\n",
    "\n",
    "In conclusion:\n",
    "\n",
    "Model 1 is the most parsimonious, with 6 predictors, a Pseudo R² of 0.44, and the lowest BIC (296.9). This suggests it balances fit and simplicity well.\n",
    "\n",
    "Model 2 adds one more predictor but provides only a negligible improvement in fit (Pseudo R² 0.443, LL –126.8). Its AIC and BIC are worse than Model 1, so it does not justify the extra complexity.\n",
    "\n",
    "Model 3 includes 11 predictors and shows the best overall fit (highest Pseudo R² = 0.496, lowest AIC = 253.8). However, its BIC (301.2) is higher than Model 1, reflecting a greater penalty for complexity.\n",
    "\n",
    "Regardless of the model, smoking status is not significantly associated with recurrence after adjusting for other factors."
   ]
  },
  {
   "cell_type": "markdown",
   "id": "64a337e5",
   "metadata": {},
   "source": [
    "#### 4. Machine learning classification algorithms"
   ]
  },
  {
   "cell_type": "markdown",
   "id": "6e7d71a4",
   "metadata": {},
   "source": [
    "##### 4.1 All variables"
   ]
  },
  {
   "cell_type": "markdown",
   "id": "3b8b1030",
   "metadata": {},
   "source": [
    "a. Shared Preprocessing Setup"
   ]
  },
  {
   "cell_type": "code",
   "execution_count": 101,
   "id": "b0223582",
   "metadata": {},
   "outputs": [
    {
     "data": {
      "text/plain": [
       "Index(['Age', 'Gender', 'Smoking', 'Hx Smoking', 'Hx Radiothreapy',\n",
       "       'Thyroid Function', 'Physical Examination', 'Adenopathy', 'Pathology',\n",
       "       'Focality', 'Risk', 'T', 'N', 'M', 'Stage', 'Response', 'Recurred',\n",
       "       'Age category', 'Smoking status', 'Thyroid_01', 'Physical_01',\n",
       "       'Adenopathy_01', 'Response_01'],\n",
       "      dtype='object')"
      ]
     },
     "execution_count": 101,
     "metadata": {},
     "output_type": "execute_result"
    }
   ],
   "source": [
    "tcr_ml = tcr_raw\n",
    "tcr_ml.columns"
   ]
  },
  {
   "cell_type": "code",
   "execution_count": 102,
   "id": "bf434140",
   "metadata": {},
   "outputs": [],
   "source": [
    "# Features and target\n",
    "feature_cols = ['Age category', 'Gender', 'Hx Smoking', 'Hx Radiothreapy',\n",
    "                'Thyroid Function', 'Physical Examination', 'Adenopathy', 'Pathology',\n",
    "                'Focality', 'Risk', 'T', 'N', 'M', 'Stage', 'Response']\n",
    "\n",
    "X = tcr_ml[feature_cols]\n",
    "y = tcr_ml['Recurred']\n",
    "\n",
    "# Split data\n",
    "X_train, X_test, y_train, y_test = train_test_split(\n",
    "    X, y,\n",
    "    test_size=0.25,\n",
    "    random_state=0,\n",
    "    stratify=y # preserve class balance\n",
    "    )\n",
    "\n",
    "# Identify categorical columns\n",
    "categorical_cols = X.select_dtypes(include=['object', 'category']).columns.tolist()\n",
    "\n",
    "# Preprocessing pipeline\n",
    "preprocessor = ColumnTransformer(\n",
    "    transformers=[('cat', OneHotEncoder(handle_unknown='ignore'), categorical_cols)],\n",
    "    remainder='passthrough'\n",
    ")"
   ]
  },
  {
   "cell_type": "markdown",
   "id": "17808fd3",
   "metadata": {},
   "source": [
    "\n",
    "- Distribution of features by recurrence status in the training set"
   ]
  },
  {
   "cell_type": "code",
   "execution_count": 106,
   "id": "de9e432d",
   "metadata": {},
   "outputs": [
    {
     "name": "stdout",
     "output_type": "stream",
     "text": [
      "                                                        Grouped by Recurred                                            \n",
      "                                                                    Missing     Overall           No        Yes P-Value\n",
      "n                                                                                   287          206         81        \n",
      "Age category, n (%)         0-55                                             229 (79.8)   180 (87.4)  49 (60.5)  <0.001\n",
      "                            55+                                               58 (20.2)    26 (12.6)  32 (39.5)        \n",
      "Gender, n (%)               F                                                234 (81.5)   184 (89.3)  50 (61.7)  <0.001\n",
      "                            M                                                 53 (18.5)    22 (10.7)  31 (38.3)        \n",
      "Hx Smoking, n (%)           No                                               266 (92.7)   195 (94.7)  71 (87.7)   0.072\n",
      "                            Yes                                                21 (7.3)     11 (5.3)  10 (12.3)        \n",
      "Hx Radiothreapy, n (%)      No                                               282 (98.3)   205 (99.5)  77 (95.1)   0.024\n",
      "                            Yes                                                 5 (1.7)      1 (0.5)    4 (4.9)        \n",
      "Thyroid Function, n (%)     Clinical Hyperthyroidism                           14 (4.9)     11 (5.3)    3 (3.7)   0.455\n",
      "                            Clinical Hypothyroidism                             9 (3.1)      7 (3.4)    2 (2.5)        \n",
      "                            Euthyroid                                        250 (87.1)   178 (86.4)  72 (88.9)        \n",
      "                            Subclinical Hyperthyroidism                         5 (1.7)      5 (2.4)    0 (0.0)        \n",
      "                            Subclinical Hypothyroidism                          9 (3.1)      5 (2.4)    4 (4.9)        \n",
      "Physical Examination, n (%) Diffuse goiter                                      3 (1.0)      3 (1.5)    0 (0.0)   0.037\n",
      "                            Multinodular goiter                              104 (36.2)    66 (32.0)  38 (46.9)        \n",
      "                            Normal                                              3 (1.0)      1 (0.5)    2 (2.5)        \n",
      "                            Single nodular goiter-left                        69 (24.0)    50 (24.3)  19 (23.5)        \n",
      "                            Single nodular goiter-right                      108 (37.6)    86 (41.7)  22 (27.2)        \n",
      "Adenopathy, n (%)           Bilateral                                          20 (7.0)      3 (1.5)  17 (21.0)  <0.001\n",
      "                            Extensive                                           5 (1.7)      0 (0.0)    5 (6.2)        \n",
      "                            Left                                               13 (4.5)      5 (2.4)    8 (9.9)        \n",
      "                            No                                               213 (74.2)   186 (90.3)  27 (33.3)        \n",
      "                            Right                                             36 (12.5)     12 (5.8)  24 (29.6)        \n",
      "Pathology, n (%)            Follicular                                         25 (8.7)     15 (7.3)  10 (12.3)  <0.001\n",
      "                            Hurthel cell                                       16 (5.6)     10 (4.9)    6 (7.4)        \n",
      "                            Micropapillary                                    36 (12.5)    36 (17.5)    0 (0.0)        \n",
      "                            Papillary                                        210 (73.2)   145 (70.4)  65 (80.2)        \n",
      "Focality, n (%)             Multi-Focal                                       98 (34.1)    45 (21.8)  53 (65.4)  <0.001\n",
      "                            Uni-Focal                                        189 (65.9)   161 (78.2)  28 (34.6)        \n",
      "Risk, n (%)                 High                                               23 (8.0)      0 (0.0)  23 (28.4)  <0.001\n",
      "                            Intermediate                                      75 (26.1)    27 (13.1)  48 (59.3)        \n",
      "                            Low                                              189 (65.9)   179 (86.9)  10 (12.3)        \n",
      "T, n (%)                    T1a                                               36 (12.5)    35 (17.0)    1 (1.2)  <0.001\n",
      "                            T1b                                               36 (12.5)    32 (15.5)    4 (4.9)        \n",
      "                            T2                                               110 (38.3)    95 (46.1)  15 (18.5)        \n",
      "                            T3a                                               74 (25.8)    41 (19.9)  33 (40.7)        \n",
      "                            T3b                                                11 (3.8)      2 (1.0)   9 (11.1)        \n",
      "                            T4a                                                14 (4.9)      1 (0.5)  13 (16.0)        \n",
      "                            T4b                                                 6 (2.1)      0 (0.0)    6 (7.4)        \n",
      "N, n (%)                    N0                                               206 (71.8)   183 (88.8)  23 (28.4)  <0.001\n",
      "                            N1a                                                19 (6.6)     10 (4.9)   9 (11.1)        \n",
      "                            N1b                                               62 (21.6)     13 (6.3)  49 (60.5)        \n",
      "M, n (%)                    M0                                               275 (95.8)  206 (100.0)  69 (85.2)  <0.001\n",
      "                            M1                                                 12 (4.2)      0 (0.0)  12 (14.8)        \n",
      "Stage, n (%)                I                                                251 (87.5)   201 (97.6)  50 (61.7)  <0.001\n",
      "                            II                                                 22 (7.7)      5 (2.4)  17 (21.0)        \n",
      "                            III                                                 3 (1.0)      0 (0.0)    3 (3.7)        \n",
      "                            IVA                                                 3 (1.0)      0 (0.0)    3 (3.7)        \n",
      "                            IVB                                                 8 (2.8)      0 (0.0)    8 (9.9)        \n",
      "Response, n (%)             Biochemical Incomplete                             18 (6.3)     10 (4.9)    8 (9.9)  <0.001\n",
      "                            Excellent                                        153 (53.3)   153 (74.3)    0 (0.0)        \n",
      "                            Indeterminate                                     47 (16.4)    41 (19.9)    6 (7.4)        \n",
      "                            Structural Incomplete                             69 (24.0)      2 (1.0)  67 (82.7)        \n"
     ]
    }
   ],
   "source": [
    "# Combine predictors with outcome\n",
    "train_df = pd.concat([X_train, y_train.rename(\"Recurred\")], axis=1)\n",
    "\n",
    "# All variables in X_train\n",
    "columns = [\n",
    "    'Age category', 'Gender', 'Hx Smoking', 'Hx Radiothreapy',\n",
    "    'Thyroid Function', 'Physical Examination', 'Adenopathy',\n",
    "    'Pathology', 'Focality', 'Risk', 'T', 'N', 'M', 'Stage', 'Response'\n",
    "]\n",
    "\n",
    "# Categorical variables (adjust as needed for your dataset)\n",
    "categorical = [\n",
    "    'Age category', 'Gender', 'Hx Smoking', 'Hx Radiothreapy',\n",
    "    'Thyroid Function', 'Physical Examination', 'Adenopathy',\n",
    "    'Pathology', 'Focality', 'Risk', 'T', 'N', 'M', 'Stage', 'Response'\n",
    "]\n",
    "\n",
    "# Generate Table 1\n",
    "table_train = TableOne(data=train_df,\n",
    "                  columns=columns,\n",
    "                  categorical=categorical,\n",
    "                  groupby='Recurred',\n",
    "                  pval=True)\n",
    "\n",
    "print(table_train)\n",
    "\n"
   ]
  },
  {
   "cell_type": "markdown",
   "id": "e0958b18",
   "metadata": {},
   "source": [
    "\n",
    "- Distribution of features by recurrence status in the test set"
   ]
  },
  {
   "cell_type": "code",
   "execution_count": 107,
   "id": "9248fa6d",
   "metadata": {},
   "outputs": [
    {
     "name": "stdout",
     "output_type": "stream",
     "text": [
      "                                                        Grouped by Recurred                                          \n",
      "                                                                    Missing    Overall          No        Yes P-Value\n",
      "n                                                                                   96          69         27        \n",
      "Age category, n (%)         0-55                                             76 (79.2)   60 (87.0)  16 (59.3)   0.006\n",
      "                            55+                                              20 (20.8)    9 (13.0)  11 (40.7)        \n",
      "Gender, n (%)               F                                                78 (81.2)   62 (89.9)  16 (59.3)   0.002\n",
      "                            M                                                18 (18.8)    7 (10.1)  11 (40.7)        \n",
      "Hx Smoking, n (%)           No                                               89 (92.7)   66 (95.7)  23 (85.2)   0.095\n",
      "                            Yes                                                7 (7.3)     3 (4.3)   4 (14.8)        \n",
      "Hx Radiothreapy, n (%)      No                                               94 (97.9)  69 (100.0)  25 (92.6)   0.077\n",
      "                            Yes                                                2 (2.1)     0 (0.0)    2 (7.4)        \n",
      "Thyroid Function, n (%)     Clinical Hyperthyroidism                           6 (6.2)     6 (8.7)    0 (0.0)   0.240\n",
      "                            Clinical Hypothyroidism                            3 (3.1)     3 (4.3)    0 (0.0)        \n",
      "                            Euthyroid                                        82 (85.4)   56 (81.2)  26 (96.3)        \n",
      "                            Subclinical Hypothyroidism                         5 (5.2)     4 (5.8)    1 (3.7)        \n",
      "Physical Examination, n (%) Diffuse goiter                                     4 (4.2)     4 (5.8)    0 (0.0)   0.133\n",
      "                            Multinodular goiter                              36 (37.5)   22 (31.9)  14 (51.9)        \n",
      "                            Normal                                             4 (4.2)     4 (5.8)    0 (0.0)        \n",
      "                            Single nodular goiter-left                       20 (20.8)   13 (18.8)   7 (25.9)        \n",
      "                            Single nodular goiter-right                      32 (33.3)   26 (37.7)   6 (22.2)        \n",
      "Adenopathy, n (%)           Bilateral                                        12 (12.5)     2 (2.9)  10 (37.0)  <0.001\n",
      "                            Extensive                                          2 (2.1)     0 (0.0)    2 (7.4)        \n",
      "                            Left                                               4 (4.2)     0 (0.0)   4 (14.8)        \n",
      "                            No                                               64 (66.7)   61 (88.4)   3 (11.1)        \n",
      "                            Posterior                                          2 (2.1)     0 (0.0)    2 (7.4)        \n",
      "                            Right                                            12 (12.5)     6 (8.7)   6 (22.2)        \n",
      "Pathology, n (%)            Follicular                                         3 (3.1)     1 (1.4)    2 (7.4)   0.027\n",
      "                            Hurthel cell                                       4 (4.2)     4 (5.8)    0 (0.0)        \n",
      "                            Micropapillary                                   12 (12.5)   12 (17.4)    0 (0.0)        \n",
      "                            Papillary                                        77 (80.2)   52 (75.4)  25 (92.6)        \n",
      "Focality, n (%)             Multi-Focal                                      38 (39.6)   21 (30.4)  17 (63.0)   0.007\n",
      "                            Uni-Focal                                        58 (60.4)   48 (69.6)  10 (37.0)        \n",
      "Risk, n (%)                 High                                               9 (9.4)     0 (0.0)   9 (33.3)  <0.001\n",
      "                            Intermediate                                     27 (28.1)   11 (15.9)  16 (59.3)        \n",
      "                            Low                                              60 (62.5)   58 (84.1)    2 (7.4)        \n",
      "T, n (%)                    T1a                                              13 (13.5)   13 (18.8)    0 (0.0)  <0.001\n",
      "                            T1b                                                7 (7.3)     6 (8.7)    1 (3.7)        \n",
      "                            T2                                               41 (42.7)   36 (52.2)   5 (18.5)        \n",
      "                            T3a                                              22 (22.9)   14 (20.3)   8 (29.6)        \n",
      "                            T3b                                                5 (5.2)     0 (0.0)   5 (18.5)        \n",
      "                            T4a                                                6 (6.2)     0 (0.0)   6 (22.2)        \n",
      "                            T4b                                                2 (2.1)     0 (0.0)    2 (7.4)        \n",
      "N, n (%)                    N0                                               62 (64.6)   58 (84.1)   4 (14.8)  <0.001\n",
      "                            N1a                                                3 (3.1)     2 (2.9)    1 (3.7)        \n",
      "                            N1b                                              31 (32.3)    9 (13.0)  22 (81.5)        \n",
      "M, n (%)                    M0                                               90 (93.8)  69 (100.0)  21 (77.8)  <0.001\n",
      "                            M1                                                 6 (6.2)     0 (0.0)   6 (22.2)        \n",
      "Stage, n (%)                I                                                82 (85.4)   67 (97.1)  15 (55.6)  <0.001\n",
      "                            II                                               10 (10.4)     2 (2.9)   8 (29.6)        \n",
      "                            III                                                1 (1.0)     0 (0.0)    1 (3.7)        \n",
      "                            IVB                                                3 (3.1)     0 (0.0)   3 (11.1)        \n",
      "Response, n (%)             Biochemical Incomplete                             5 (5.2)     2 (2.9)   3 (11.1)  <0.001\n",
      "                            Excellent                                        55 (57.3)   54 (78.3)    1 (3.7)        \n",
      "                            Indeterminate                                    14 (14.6)   13 (18.8)    1 (3.7)        \n",
      "                            Structural Incomplete                            22 (22.9)     0 (0.0)  22 (81.5)        \n"
     ]
    }
   ],
   "source": [
    "# Combine predictors with outcome\n",
    "test_df = pd.concat([X_test, y_test.rename(\"Recurred\")], axis=1)\n",
    "\n",
    "# Variables (same as in training set)\n",
    "columns = [\n",
    "    'Age category', 'Gender', 'Hx Smoking', 'Hx Radiothreapy',\n",
    "    'Thyroid Function', 'Physical Examination', 'Adenopathy',\n",
    "    'Pathology', 'Focality', 'Risk', 'T', 'N', 'M', 'Stage', 'Response'\n",
    "]\n",
    "\n",
    "# Define which are categorical (adjust if some are numeric)\n",
    "categorical = [\n",
    "    'Age category', 'Gender', 'Hx Smoking', 'Hx Radiothreapy',\n",
    "    'Thyroid Function', 'Physical Examination', 'Adenopathy',\n",
    "    'Pathology', 'Focality', 'Risk', 'T', 'N', 'M', 'Stage', 'Response'\n",
    "]\n",
    "\n",
    "# Generate Table 1 for the test set\n",
    "table1_test = TableOne(data=test_df,\n",
    "                       columns=columns,\n",
    "                       categorical=categorical,\n",
    "                       groupby='Recurred',\n",
    "                       pval=True)\n",
    "\n",
    "print(table1_test)\n"
   ]
  },
  {
   "cell_type": "code",
   "execution_count": 112,
   "id": "c4719231",
   "metadata": {},
   "outputs": [
    {
     "name": "stdout",
     "output_type": "stream",
     "text": [
      "                                                        Grouped by Split                                           \n",
      "                                                                 Missing     Overall    TestSet    TrainSet P-Value\n",
      "n                                                                                383         96         287        \n",
      "Age category, n (%)         0-55                                          305 (79.6)  76 (79.2)  229 (79.8)   1.000\n",
      "                            55+                                            78 (20.4)  20 (20.8)   58 (20.2)        \n",
      "Gender, n (%)               F                                             312 (81.5)  78 (81.2)  234 (81.5)   1.000\n",
      "                            M                                              71 (18.5)  18 (18.8)   53 (18.5)        \n",
      "Hx Smoking, n (%)           No                                            355 (92.7)  89 (92.7)  266 (92.7)   1.000\n",
      "                            Yes                                             28 (7.3)    7 (7.3)    21 (7.3)        \n",
      "Hx Radiothreapy, n (%)      No                                            376 (98.2)  94 (97.9)  282 (98.3)   1.000\n",
      "                            Yes                                              7 (1.8)    2 (2.1)     5 (1.7)        \n",
      "Thyroid Function, n (%)     Clinical Hyperthyroidism                        20 (5.2)    6 (6.2)    14 (4.9)   0.592\n",
      "                            Clinical Hypothyroidism                         12 (3.1)    3 (3.1)     9 (3.1)        \n",
      "                            Euthyroid                                     332 (86.7)  82 (85.4)  250 (87.1)        \n",
      "                            Subclinical Hyperthyroidism                      5 (1.3)    0 (0.0)     5 (1.7)        \n",
      "                            Subclinical Hypothyroidism                      14 (3.7)    5 (5.2)     9 (3.1)        \n",
      "Physical Examination, n (%) Diffuse goiter                                   7 (1.8)    4 (4.2)     3 (1.0)   0.079\n",
      "                            Multinodular goiter                           140 (36.6)  36 (37.5)  104 (36.2)        \n",
      "                            Normal                                           7 (1.8)    4 (4.2)     3 (1.0)        \n",
      "                            Single nodular goiter-left                     89 (23.2)  20 (20.8)   69 (24.0)        \n",
      "                            Single nodular goiter-right                   140 (36.6)  32 (33.3)  108 (37.6)        \n",
      "Adenopathy, n (%)           Bilateral                                       32 (8.4)  12 (12.5)    20 (7.0)   0.100\n",
      "                            Extensive                                        7 (1.8)    2 (2.1)     5 (1.7)        \n",
      "                            Left                                            17 (4.4)    4 (4.2)    13 (4.5)        \n",
      "                            No                                            277 (72.3)  64 (66.7)  213 (74.2)        \n",
      "                            Posterior                                        2 (0.5)    2 (2.1)     0 (0.0)        \n",
      "                            Right                                          48 (12.5)  12 (12.5)   36 (12.5)        \n",
      "Pathology, n (%)            Follicular                                      28 (7.3)    3 (3.1)    25 (8.7)   0.282\n",
      "                            Hurthel cell                                    20 (5.2)    4 (4.2)    16 (5.6)        \n",
      "                            Micropapillary                                 48 (12.5)  12 (12.5)   36 (12.5)        \n",
      "                            Papillary                                     287 (74.9)  77 (80.2)  210 (73.2)        \n",
      "Focality, n (%)             Multi-Focal                                   136 (35.5)  38 (39.6)   98 (34.1)   0.401\n",
      "                            Uni-Focal                                     247 (64.5)  58 (60.4)  189 (65.9)        \n",
      "Risk, n (%)                 High                                            32 (8.4)    9 (9.4)    23 (8.0)   0.822\n",
      "                            Intermediate                                  102 (26.6)  27 (28.1)   75 (26.1)        \n",
      "                            Low                                           249 (65.0)  60 (62.5)  189 (65.9)        \n",
      "T, n (%)                    T1a                                            49 (12.8)  13 (13.5)   36 (12.5)   0.810\n",
      "                            T1b                                            43 (11.2)    7 (7.3)   36 (12.5)        \n",
      "                            T2                                            151 (39.4)  41 (42.7)  110 (38.3)        \n",
      "                            T3a                                            96 (25.1)  22 (22.9)   74 (25.8)        \n",
      "                            T3b                                             16 (4.2)    5 (5.2)    11 (3.8)        \n",
      "                            T4a                                             20 (5.2)    6 (6.2)    14 (4.9)        \n",
      "                            T4b                                              8 (2.1)    2 (2.1)     6 (2.1)        \n",
      "N, n (%)                    N0                                            268 (70.0)  62 (64.6)  206 (71.8)   0.066\n",
      "                            N1a                                             22 (5.7)    3 (3.1)    19 (6.6)        \n",
      "                            N1b                                            93 (24.3)  31 (32.3)   62 (21.6)        \n",
      "M, n (%)                    M0                                            365 (95.3)  90 (93.8)  275 (95.8)   0.409\n",
      "                            M1                                              18 (4.7)    6 (6.2)    12 (4.2)        \n",
      "Stage, n (%)                I                                             333 (86.9)  82 (85.4)  251 (87.5)   0.787\n",
      "                            II                                              32 (8.4)  10 (10.4)    22 (7.7)        \n",
      "                            III                                              4 (1.0)    1 (1.0)     3 (1.0)        \n",
      "                            IVA                                              3 (0.8)    0 (0.0)     3 (1.0)        \n",
      "                            IVB                                             11 (2.9)    3 (3.1)     8 (2.8)        \n",
      "Response, n (%)             Biochemical Incomplete                          23 (6.0)    5 (5.2)    18 (6.3)   0.912\n",
      "                            Excellent                                     208 (54.3)  55 (57.3)  153 (53.3)        \n",
      "                            Indeterminate                                  61 (15.9)  14 (14.6)   47 (16.4)        \n",
      "                            Structural Incomplete                          91 (23.8)  22 (22.9)   69 (24.0)        \n"
     ]
    }
   ],
   "source": [
    "# Add split indicator to each set\n",
    "train_df = X_train.copy()\n",
    "train_df[\"Split\"] = \"TrainSet\"\n",
    "\n",
    "test_df = X_test.copy()\n",
    "test_df[\"Split\"] = \"TestSet\"\n",
    "\n",
    "# Combine back into one dataset\n",
    "split_df = pd.concat([train_df, test_df], axis=0)\n",
    "\n",
    "# Define columns\n",
    "columns = [\n",
    "    'Age category', 'Gender', 'Hx Smoking', 'Hx Radiothreapy',\n",
    "    'Thyroid Function', 'Physical Examination', 'Adenopathy',\n",
    "    'Pathology', 'Focality', 'Risk', 'T', 'N', 'M', 'Stage', 'Response'\n",
    "]\n",
    "\n",
    "categorical = columns  # adjust if some are numeric\n",
    "\n",
    "# Build Table 1 by split\n",
    "from tableone import TableOne\n",
    "table_split = TableOne(data=split_df,\n",
    "                       columns=columns,\n",
    "                       categorical=categorical,\n",
    "                       groupby='Split',\n",
    "                       pval=True)\n",
    "\n",
    "print(table_split)\n"
   ]
  },
  {
   "cell_type": "markdown",
   "id": "20675936",
   "metadata": {},
   "source": [
    "a. Pipeline for data preprocessing and model training "
   ]
  },
  {
   "cell_type": "code",
   "execution_count": 114,
   "id": "6a7b9147",
   "metadata": {},
   "outputs": [],
   "source": [
    "# Logistic regression\n",
    "clf = Pipeline(steps=[\n",
    "    ('preprocessor', preprocessor),\n",
    "    ('classifier', LogisticRegression(max_iter=1000))  # Increase max_iter if needed\n",
    "])\n",
    "clf.fit(X_train, y_train)\n",
    "y_pred = clf.predict(X_test)\n",
    "\n",
    "# KNN\n",
    "knn_pipeline = Pipeline([\n",
    "    ('preprocessor', preprocessor),\n",
    "    ('classifier', KNeighborsClassifier(n_neighbors=5))  # You can tune this\n",
    "])\n",
    "knn_pipeline.fit(X_train, y_train)\n",
    "y_pred_knn = knn_pipeline.predict(X_test)\n",
    "\n",
    "# SVM\n",
    "svm_pipeline = Pipeline([\n",
    "    ('preprocessor', preprocessor),\n",
    "    ('classifier', SVC(kernel='rbf', probability=True))  # 'linear' and 'rbf' are common choices\n",
    "])\n",
    "svm_pipeline.fit(X_train, y_train)\n",
    "y_pred_svm = svm_pipeline.predict(X_test)\n",
    "\n",
    "# Decision Trees\n",
    "tree_pipeline = Pipeline([\n",
    "    ('preprocessor', preprocessor),\n",
    "    ('classifier', DecisionTreeClassifier(random_state=0))\n",
    "])\n",
    "tree_pipeline.fit(X_train, y_train)\n",
    "y_pred_tree = tree_pipeline.predict(X_test)\n",
    "\n",
    "# Random Forest\n",
    "rf_pipeline = Pipeline([\n",
    "    ('preprocessor', preprocessor),\n",
    "    ('classifier', RandomForestClassifier(n_estimators=100, random_state=0))\n",
    "])\n",
    "rf_pipeline.fit(X_train, y_train)\n",
    "y_pred_rf = rf_pipeline.predict(X_test)\n",
    "\n",
    "# ANN\n",
    "ann_pipeline = Pipeline([\n",
    "    ('preprocessor', preprocessor),\n",
    "    ('classifier', MLPClassifier(hidden_layer_sizes=(100,), max_iter=500, random_state=0))\n",
    "])\n",
    "ann_pipeline.fit(X_train, y_train)\n",
    "y_pred_ann = ann_pipeline.predict(X_test)"
   ]
  },
  {
   "cell_type": "markdown",
   "id": "75a96dc2",
   "metadata": {},
   "source": [
    "- Results"
   ]
  },
  {
   "cell_type": "code",
   "execution_count": 115,
   "id": "e5265bbd",
   "metadata": {},
   "outputs": [],
   "source": [
    "def evaluate_model(y_true, y_pred, y_prob, model_name, pos_label='Yes'):\n",
    "    cm = confusion_matrix(y_true, y_pred, labels=['No', 'Yes'])\n",
    "    tn, fp, fn, tp = cm.ravel()\n",
    "\n",
    "    return {\n",
    "        \"Model\": model_name,\n",
    "        \"Accuracy\": accuracy_score(y_true, y_pred),\n",
    "        \"Precision\": precision_score(y_true, y_pred, pos_label=pos_label),\n",
    "        \"Recall (Sensitivity)\": recall_score(y_true, y_pred, pos_label=pos_label),\n",
    "        \"F1 Score\": f1_score(y_true, y_pred, pos_label=pos_label),\n",
    "        \"AUC\": roc_auc_score(y_true.map({'No': 0, 'Yes': 1}), y_prob),\n",
    "        \"Confusion Matrix\": f\"[[{tn}, {fp}], [{fn}, {tp}]]\"\n",
    "    }\n"
   ]
  },
  {
   "cell_type": "code",
   "execution_count": 116,
   "id": "5a629668",
   "metadata": {},
   "outputs": [],
   "source": [
    "results = []\n",
    "\n",
    "# Logistic Regression\n",
    "y_prob = clf.predict_proba(X_test)[:, 1]\n",
    "results.append(evaluate_model(y_test, y_pred, y_prob, \"Logistic Regression\"))\n",
    "\n",
    "# KNN\n",
    "y_prob_knn = knn_pipeline.predict_proba(X_test)[:, 1]\n",
    "results.append(evaluate_model(y_test, y_pred_knn, y_prob_knn, \"KNN\"))\n",
    "\n",
    "# SVM\n",
    "y_prob_svm = svm_pipeline.predict_proba(X_test)[:, 1]\n",
    "results.append(evaluate_model(y_test, y_pred_svm, y_prob_svm, \"SVM\"))\n",
    "\n",
    "# Decision Tree\n",
    "y_prob_tree = tree_pipeline.predict_proba(X_test)[:, 1]\n",
    "results.append(evaluate_model(y_test, y_pred_tree, y_prob_tree, \"Decision Tree\"))\n",
    "\n",
    "# Random Forest\n",
    "y_prob_rf = rf_pipeline.predict_proba(X_test)[:, 1]\n",
    "results.append(evaluate_model(y_test, y_pred_rf, y_prob_rf, \"Random Forest\"))\n",
    "\n",
    "# ANN\n",
    "y_prob_ann = ann_pipeline.predict_proba(X_test)[:, 1]\n",
    "results.append(evaluate_model(y_test, y_pred_ann, y_prob_ann, \"ANN\"))\n"
   ]
  },
  {
   "cell_type": "code",
   "execution_count": 117,
   "id": "f7fae5b8",
   "metadata": {},
   "outputs": [
    {
     "data": {
      "text/html": [
       "<table class=\"dataframe\">\n",
       "  <thead>\n",
       "    <tr style=\"text-align: right;\">\n",
       "      <th></th>\n",
       "      <th>Accuracy</th>\n",
       "      <th>Precision</th>\n",
       "      <th>Recall (Sensitivity)</th>\n",
       "      <th>F1 Score</th>\n",
       "      <th>AUC</th>\n",
       "      <th>Confusion Matrix</th>\n",
       "    </tr>\n",
       "    <tr>\n",
       "      <th>Model</th>\n",
       "      <th></th>\n",
       "      <th></th>\n",
       "      <th></th>\n",
       "      <th></th>\n",
       "      <th></th>\n",
       "      <th></th>\n",
       "    </tr>\n",
       "  </thead>\n",
       "  <tbody>\n",
       "    <tr>\n",
       "      <th>Logistic Regression</th>\n",
       "      <td>0.969</td>\n",
       "      <td>1.000</td>\n",
       "      <td>0.889</td>\n",
       "      <td>0.941</td>\n",
       "      <td>0.992</td>\n",
       "      <td>[[69, 0], [3, 24]]</td>\n",
       "    </tr>\n",
       "    <tr>\n",
       "      <th>KNN</th>\n",
       "      <td>0.927</td>\n",
       "      <td>0.857</td>\n",
       "      <td>0.889</td>\n",
       "      <td>0.873</td>\n",
       "      <td>0.980</td>\n",
       "      <td>[[65, 4], [3, 24]]</td>\n",
       "    </tr>\n",
       "    <tr>\n",
       "      <th>SVM</th>\n",
       "      <td>0.969</td>\n",
       "      <td>1.000</td>\n",
       "      <td>0.889</td>\n",
       "      <td>0.941</td>\n",
       "      <td>0.989</td>\n",
       "      <td>[[69, 0], [3, 24]]</td>\n",
       "    </tr>\n",
       "    <tr>\n",
       "      <th>Decision Tree</th>\n",
       "      <td>0.958</td>\n",
       "      <td>0.960</td>\n",
       "      <td>0.889</td>\n",
       "      <td>0.923</td>\n",
       "      <td>0.937</td>\n",
       "      <td>[[68, 1], [3, 24]]</td>\n",
       "    </tr>\n",
       "    <tr>\n",
       "      <th>Random Forest</th>\n",
       "      <td>0.948</td>\n",
       "      <td>0.923</td>\n",
       "      <td>0.889</td>\n",
       "      <td>0.906</td>\n",
       "      <td>0.991</td>\n",
       "      <td>[[67, 2], [3, 24]]</td>\n",
       "    </tr>\n",
       "    <tr>\n",
       "      <th>ANN</th>\n",
       "      <td>0.969</td>\n",
       "      <td>1.000</td>\n",
       "      <td>0.889</td>\n",
       "      <td>0.941</td>\n",
       "      <td>0.990</td>\n",
       "      <td>[[69, 0], [3, 24]]</td>\n",
       "    </tr>\n",
       "  </tbody>\n",
       "</table>"
      ],
      "text/plain": [
       "<IPython.core.display.HTML object>"
      ]
     },
     "metadata": {},
     "output_type": "display_data"
    }
   ],
   "source": [
    "summary_df = pd.DataFrame(results)\n",
    "summary_df = summary_df.set_index(\"Model\")\n",
    "summary_df = summary_df.round(3)  # round numeric values\n",
    "\n",
    "display(HTML(summary_df.to_html(index=True, border=0)))"
   ]
  },
  {
   "cell_type": "code",
   "execution_count": 31,
   "id": "0b75ef70",
   "metadata": {},
   "outputs": [],
   "source": [
    "models = [\n",
    "    (\"Logistic Regression\", clf, y_pred, clf.predict_proba(X_test)[:, 1]),\n",
    "    (\"KNN\", knn_pipeline, y_pred_knn, knn_pipeline.predict_proba(X_test)[:, 1]),\n",
    "    (\"SVM\", svm_pipeline, y_pred_svm, svm_pipeline.predict_proba(X_test)[:, 1]),\n",
    "    (\"Decision Tree\", tree_pipeline, y_pred_tree, tree_pipeline.predict_proba(X_test)[:, 1]),\n",
    "    (\"Random Forest\", rf_pipeline, y_pred_rf, rf_pipeline.predict_proba(X_test)[:, 1]),\n",
    "    (\"ANN\", ann_pipeline, y_pred_ann, ann_pipeline.predict_proba(X_test)[:, 1])\n",
    "]\n"
   ]
  },
  {
   "cell_type": "code",
   "execution_count": 32,
   "id": "d2732191",
   "metadata": {},
   "outputs": [
    {
     "data": {
      "image/png": "[encoded data removed]",
      "text/plain": [
       "<Figure size 1200x1200 with 12 Axes>"
      ]
     },
     "metadata": {},
     "output_type": "display_data"
    }
   ],
   "source": [
    "fig, axes = plt.subplots(nrows=3, ncols=2, figsize=(12, 12))\n",
    "axes = axes.flatten()\n",
    "\n",
    "for i, (name, _, y_pred, _) in enumerate(models):\n",
    "    cm = confusion_matrix(y_test, y_pred, labels=['No', 'Yes'])\n",
    "    sns.heatmap(cm, annot=True, fmt='d', cmap='Blues',\n",
    "                xticklabels=['No', 'Yes'], yticklabels=['No', 'Yes'],\n",
    "                ax=axes[i])\n",
    "    axes[i].set_title(f'Confusion Matrix - {name}')\n",
    "    axes[i].set_xlabel(\"Predicted\")\n",
    "    axes[i].set_ylabel(\"Actual\")\n",
    "\n",
    "plt.tight_layout()\n",
    "plt.show()"
   ]
  },
  {
   "cell_type": "code",
   "execution_count": 33,
   "id": "10d0b4bc",
   "metadata": {},
   "outputs": [
    {
     "data": {
      "image/png": "[encoded data removed]",
      "text/plain": [
       "<Figure size 1200x1200 with 6 Axes>"
      ]
     },
     "metadata": {},
     "output_type": "display_data"
    }
   ],
   "source": [
    "from sklearn.metrics import (\n",
    "    accuracy_score, precision_score, recall_score, f1_score,\n",
    "    roc_curve, auc, confusion_matrix\n",
    ")\n",
    "\n",
    "fig, axes = plt.subplots(nrows=3, ncols=2, figsize=(12, 12))\n",
    "axes = axes.flatten()\n",
    "\n",
    "for i, (name, _, _, y_prob) in enumerate(models):\n",
    "    fpr, tpr, _ = roc_curve(y_test.map({'No': 0, 'Yes': 1}), y_prob)\n",
    "    roc_auc = auc(fpr, tpr)\n",
    "    axes[i].plot(fpr, tpr, label=f\"AUC = {roc_auc:.2f}\", color='blue')\n",
    "    axes[i].plot([0, 1], [0, 1], linestyle='--', color='gray')\n",
    "    axes[i].set_title(f'ROC Curve - {name}')\n",
    "    axes[i].set_xlabel('False Positive Rate')\n",
    "    axes[i].set_ylabel('True Positive Rate')\n",
    "    axes[i].legend(loc=\"lower right\")\n",
    "sns.despine()\n",
    "plt.tight_layout()\n",
    "plt.show()\n"
   ]
  },
  {
   "cell_type": "markdown",
   "id": "76d6a9e2",
   "metadata": {},
   "source": [
    "Resources\n",
    "</span>"
   ]
  },
  {
   "cell_type": "markdown",
   "id": "0b27e5c5",
   "metadata": {},
   "source": [
    "<span style=font-size:14px>\n",
    "Finally I would like to provide some resources that I found useful in this project and would benefit both the beginner and the experienced data scientist as a refresher.\n",
    "\n",
    "- Statquest by Josh Starmer: https://www.youtube.com/@statquest. Josh has the gift of breaking down complex and esoteric concepts into bite-sized pieces digestible by the layman. You can also support him by purchasing his books \"The StatQuest Illustrated Guide to MachineLearning!!!\".\n",
    "- The Python Data Science Handbook by Jake VanderPlas, available free online at https://jakevdp.github.io/PythonDataScienceHandbook/. This is a comprehensive guide to the Python data science ecosystem, including NumPy, Pandas, Matplotlib, Scikit-Learn, and more. However, it may need a little bit of background knowledge on python programming for eas of understanding.\n",
    "- The scikit-learn official website https://scikit-learn.org/stable/index.html"
   ]
  }
 ],
 "metadata": {
  "kernelspec": {
   "display_name": "Python 3",
   "language": "python",
   "name": "python3"
  },
  "language_info": {
   "codemirror_mode": {
    "name": "ipython",
    "version": 3
   },
   "file_extension": ".py",
   "mimetype": "text/x-python",
   "name": "python",
   "nbconvert_exporter": "python",
   "pygments_lexer": "ipython3",
   "version": "3.13.4"
  }
 },
 "nbformat": 4,
 "nbformat_minor": 5
}
